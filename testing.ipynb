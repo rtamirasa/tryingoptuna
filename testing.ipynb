{
 "cells": [
  {
   "cell_type": "code",
   "execution_count": 1,
   "id": "b526509a",
   "metadata": {},
   "outputs": [
    {
     "name": "stderr",
     "output_type": "stream",
     "text": [
      "C:\\Users\\rtamiras\\AppData\\Local\\Packages\\PythonSoftwareFoundation.Python.3.11_qbz5n2kfra8p0\\LocalCache\\local-packages\\Python311\\site-packages\\tqdm\\auto.py:21: TqdmWarning: IProgress not found. Please update jupyter and ipywidgets. See https://ipywidgets.readthedocs.io/en/stable/user_install.html\n",
      "  from .autonotebook import tqdm as notebook_tqdm\n"
     ]
    }
   ],
   "source": [
    "import seaborn as sns \n",
    "import pandas as pd\n",
    "from sklearn.model_selection import train_test_split \n",
    "from sklearn.ensemble import RandomForestRegressor \n",
    "from sklearn.metrics import mean_absolute_error, mean_squared_error, r2_score \n",
    "import optuna \n",
    "from sklearn.model_selection import cross_val_score\n",
    "import matplotlib.pyplot as plt\n",
    "import plotly"
   ]
  },
  {
   "cell_type": "code",
   "execution_count": 2,
   "id": "1dcb26dc",
   "metadata": {},
   "outputs": [],
   "source": [
    "import os\n",
    "import requests\n",
    "\n",
    "proxies = {\n",
    "    \"http\": \"http://proxy-dmz.intel.com:911/\",\n",
    "    \"https\": \"http://proxy-dmz.intel.com:911/\",\n",
    "}\n",
    "\n",
    "response = requests.get(\"https://huggingface.co\", proxies= proxies)\n",
    "\n",
    "os.environ['HTTP_PROXY'] = proxies['http']\n",
    "os.environ['HTTPS_PROXY'] = proxies['https']"
   ]
  },
  {
   "cell_type": "code",
   "execution_count": 3,
   "id": "144d6eb5",
   "metadata": {},
   "outputs": [
    {
     "name": "stdout",
     "output_type": "stream",
     "text": [
      "     Year        Country  Spending_USD  Life_Expectancy\n",
      "0    1970        Germany       252.311             70.6\n",
      "1    1970         France       192.143             72.2\n",
      "2    1970  Great Britain       123.993             71.9\n",
      "3    1970          Japan       150.437             72.0\n",
      "4    1970            USA       326.961             70.9\n",
      "..    ...            ...           ...              ...\n",
      "269  2020        Germany      6938.983             81.1\n",
      "270  2020         France      5468.418             82.3\n",
      "271  2020  Great Britain      5018.700             80.4\n",
      "272  2020          Japan      4665.641             84.7\n",
      "273  2020            USA     11859.179             77.0\n",
      "\n",
      "[274 rows x 4 columns]\n"
     ]
    }
   ],
   "source": [
    "healthexp = sns.load_dataset('healthexp') \n",
    "print(healthexp)"
   ]
  },
  {
   "cell_type": "code",
   "execution_count": 4,
   "id": "51a8c669",
   "metadata": {},
   "outputs": [],
   "source": [
    "#create categorical data\n",
    "healthexp = pd.get_dummies(healthexp)"
   ]
  },
  {
   "cell_type": "code",
   "execution_count": 5,
   "id": "525270f2",
   "metadata": {},
   "outputs": [],
   "source": [
    "X= healthexp.drop(['Life_Expectancy'],axis = 1)\n",
    "y = healthexp['Life_Expectancy']"
   ]
  },
  {
   "cell_type": "code",
   "execution_count": 6,
   "id": "407a283f",
   "metadata": {},
   "outputs": [],
   "source": [
    "X_train, X_test, y_train, y_test = train_test_split(X, y, test_size = 0.2, random_state = 19)"
   ]
  },
  {
   "cell_type": "code",
   "execution_count": 7,
   "id": "f2c775c4",
   "metadata": {},
   "outputs": [],
   "source": [
    "# Create categorical data\n",
    "healthexp = pd.get_dummies(healthexp)\n",
    "X = healthexp.drop(['Life_Expectancy'], axis=1)\n",
    "y = healthexp['Life_Expectancy']\n",
    "\n",
    "# Split the data\n",
    "X_train, X_test, y_train, y_test = train_test_split(X, y, test_size=0.2, random_state=19)\n",
    "\n",
    "# Train the model\n",
    "rfr = RandomForestRegressor(random_state=13)\n",
    "rfr.fit(X_train, y_train)\n",
    "\n",
    "# Predict\n",
    "y_pred = rfr.predict(X_test)"
   ]
  },
  {
   "cell_type": "code",
   "execution_count": 8,
   "id": "7ef00d19",
   "metadata": {},
   "outputs": [
    {
     "data": {
      "text/plain": [
       "0.25916363636361917"
      ]
     },
     "execution_count": 8,
     "metadata": {},
     "output_type": "execute_result"
    }
   ],
   "source": [
    "mean_absolute_error(y_test, y_pred)\n"
   ]
  },
  {
   "cell_type": "code",
   "execution_count": 9,
   "id": "7255e33b",
   "metadata": {},
   "outputs": [
    {
     "name": "stdout",
     "output_type": "stream",
     "text": [
      "0.10221141818181628\n"
     ]
    }
   ],
   "source": [
    "print(mean_squared_error(y_test, y_pred))"
   ]
  },
  {
   "cell_type": "code",
   "execution_count": 10,
   "id": "0de09c9e",
   "metadata": {},
   "outputs": [
    {
     "data": {
      "text/plain": [
       "0.9910457602615238"
      ]
     },
     "execution_count": 10,
     "metadata": {},
     "output_type": "execute_result"
    }
   ],
   "source": [
    "r2_score(y_test, y_pred)"
   ]
  },
  {
   "cell_type": "code",
   "execution_count": 11,
   "id": "393f3f90",
   "metadata": {},
   "outputs": [],
   "source": [
    "def objective(trial):\n",
    "     n_estimators = trial.suggest_int('n_estimators', 100, 1000) \n",
    "     max_depth = trial.suggest_int('max_depth', 10, 50) \n",
    "     min_samples_split = trial.suggest_int('min_samples_split', 2, 32)\n",
    "     min_samples_leaf = trial.suggest_int('min_samples_leaf', 1, 32) \n",
    "     model = RandomForestRegressor(n_estimators=n_estimators, max_depth=max_depth, min_samples_split=min_samples_split, min_samples_leaf=min_samples_leaf)\n",
    "     score = cross_val_score(model, X, y, n_jobs=-1, cv=5, scoring='neg_mean_squared_error').mean()"
   ]
  },
  {
   "cell_type": "code",
   "execution_count": 12,
   "id": "3a22ae64",
   "metadata": {},
   "outputs": [
    {
     "name": "stderr",
     "output_type": "stream",
     "text": [
      "[I 2025-05-22 10:47:46,348] A new study created in memory with name: no-name-8172c1c3-a314-4ae1-ba39-d1c67958cae1\n"
     ]
    }
   ],
   "source": [
    "study = optuna.create_study(direction = 'maximize', sampler = optuna.samplers.RandomSampler(seed = 42))"
   ]
  },
  {
   "cell_type": "code",
   "execution_count": 13,
   "id": "e135fc80",
   "metadata": {},
   "outputs": [
    {
     "name": "stderr",
     "output_type": "stream",
     "text": [
      "[W 2025-05-22 10:47:51,755] Trial 0 failed with parameters: {'n_estimators': 437, 'max_depth': 48, 'min_samples_split': 24, 'min_samples_leaf': 20} because of the following error: The value None could not be cast to float..\n",
      "[W 2025-05-22 10:47:51,757] Trial 0 failed with value None.\n",
      "[W 2025-05-22 10:47:55,426] Trial 1 failed with parameters: {'n_estimators': 240, 'max_depth': 16, 'min_samples_split': 3, 'min_samples_leaf': 28} because of the following error: The value None could not be cast to float..\n",
      "[W 2025-05-22 10:47:55,432] Trial 1 failed with value None.\n",
      "[W 2025-05-22 10:48:02,866] Trial 2 failed with parameters: {'n_estimators': 641, 'max_depth': 39, 'min_samples_split': 2, 'min_samples_leaf': 32} because of the following error: The value None could not be cast to float..\n",
      "[W 2025-05-22 10:48:02,874] Trial 2 failed with value None.\n",
      "[W 2025-05-22 10:48:11,954] Trial 3 failed with parameters: {'n_estimators': 850, 'max_depth': 18, 'min_samples_split': 7, 'min_samples_leaf': 6} because of the following error: The value None could not be cast to float..\n",
      "[W 2025-05-22 10:48:11,961] Trial 3 failed with value None.\n",
      "[W 2025-05-22 10:48:13,596] Trial 4 failed with parameters: {'n_estimators': 374, 'max_depth': 31, 'min_samples_split': 15, 'min_samples_leaf': 10} because of the following error: The value None could not be cast to float..\n",
      "[W 2025-05-22 10:48:13,600] Trial 4 failed with value None.\n"
     ]
    }
   ],
   "source": [
    "study.optimize(objective, n_trials = 5)"
   ]
  },
  {
   "cell_type": "code",
   "execution_count": 19,
   "id": "7c309ca9",
   "metadata": {},
   "outputs": [
    {
     "name": "stderr",
     "output_type": "stream",
     "text": [
      "[I 2025-05-22 11:56:40,962] A new study created in memory with name: no-name-497446b5-7874-4ec2-b5bc-ab79173fc942\n"
     ]
    },
    {
     "name": "stdout",
     "output_type": "stream",
     "text": [
      "     Year        Country  Spending_USD  Life_Expectancy\n",
      "0    1970        Germany       252.311             70.6\n",
      "1    1970         France       192.143             72.2\n",
      "2    1970  Great Britain       123.993             71.9\n",
      "3    1970          Japan       150.437             72.0\n",
      "4    1970            USA       326.961             70.9\n",
      "..    ...            ...           ...              ...\n",
      "269  2020        Germany      6938.983             81.1\n",
      "270  2020         France      5468.418             82.3\n",
      "271  2020  Great Britain      5018.700             80.4\n",
      "272  2020          Japan      4665.641             84.7\n",
      "273  2020            USA     11859.179             77.0\n",
      "\n",
      "[274 rows x 4 columns]\n",
      "0.25916363636361917\n",
      "0.10221141818181628\n",
      "0.9910457602615238\n"
     ]
    },
    {
     "name": "stderr",
     "output_type": "stream",
     "text": [
      "[I 2025-05-22 11:56:45,286] Trial 0 finished with value: -4.454615569597869 and parameters: {'n_estimators': 437, 'max_depth': 48, 'min_samples_split': 24, 'min_samples_leaf': 20}. Best is trial 0 with value: -4.454615569597869.\n",
      "[I 2025-05-22 11:56:47,594] Trial 1 finished with value: -5.183287313244845 and parameters: {'n_estimators': 240, 'max_depth': 16, 'min_samples_split': 3, 'min_samples_leaf': 28}. Best is trial 0 with value: -4.454615569597869.\n",
      "[I 2025-05-22 11:56:50,432] Trial 2 finished with value: -5.5533065776409245 and parameters: {'n_estimators': 641, 'max_depth': 39, 'min_samples_split': 2, 'min_samples_leaf': 32}. Best is trial 0 with value: -4.454615569597869.\n",
      "[I 2025-05-22 11:56:53,288] Trial 3 finished with value: -3.022689207517696 and parameters: {'n_estimators': 850, 'max_depth': 18, 'min_samples_split': 7, 'min_samples_leaf': 6}. Best is trial 3 with value: -3.022689207517696.\n",
      "[I 2025-05-22 11:56:53,727] Trial 4 finished with value: -3.8556626829901917 and parameters: {'n_estimators': 374, 'max_depth': 31, 'min_samples_split': 15, 'min_samples_leaf': 10}. Best is trial 3 with value: -3.022689207517696.\n",
      "[I 2025-05-22 11:56:54,325] Trial 5 finished with value: -3.8222832281913655 and parameters: {'n_estimators': 651, 'max_depth': 15, 'min_samples_split': 11, 'min_samples_leaf': 12}. Best is trial 3 with value: -3.022689207517696.\n",
      "[I 2025-05-22 11:56:54,828] Trial 6 finished with value: -4.038023938697085 and parameters: {'n_estimators': 510, 'max_depth': 42, 'min_samples_split': 8, 'min_samples_leaf': 17}. Best is trial 3 with value: -3.022689207517696.\n",
      "[I 2025-05-22 11:56:55,429] Trial 7 finished with value: -3.233022901352885 and parameters: {'n_estimators': 633, 'max_depth': 11, 'min_samples_split': 20, 'min_samples_leaf': 6}. Best is trial 3 with value: -3.022689207517696.\n",
      "[I 2025-05-22 11:56:55,594] Trial 8 finished with value: -5.113585736675255 and parameters: {'n_estimators': 158, 'max_depth': 48, 'min_samples_split': 31, 'min_samples_leaf': 26}. Best is trial 3 with value: -3.022689207517696.\n",
      "[I 2025-05-22 11:56:55,953] Trial 9 finished with value: -3.9206051737370444 and parameters: {'n_estimators': 374, 'max_depth': 14, 'min_samples_split': 23, 'min_samples_leaf': 15}. Best is trial 3 with value: -3.022689207517696.\n",
      "[I 2025-05-22 11:56:56,164] Trial 10 finished with value: -5.250190783550374 and parameters: {'n_estimators': 209, 'max_depth': 30, 'min_samples_split': 3, 'min_samples_leaf': 30}. Best is trial 3 with value: -3.022689207517696.\n",
      "[I 2025-05-22 11:56:56,462] Trial 11 finished with value: -4.061369958633055 and parameters: {'n_estimators': 333, 'max_depth': 37, 'min_samples_split': 11, 'min_samples_leaf': 17}. Best is trial 3 with value: -3.022689207517696.\n",
      "[I 2025-05-22 11:56:56,962] Trial 12 finished with value: -4.981079822863892 and parameters: {'n_estimators': 592, 'max_depth': 17, 'min_samples_split': 32, 'min_samples_leaf': 25}. Best is trial 3 with value: -3.022689207517696.\n",
      "[I 2025-05-22 11:56:57,729] Trial 13 finished with value: -5.358522485421285 and parameters: {'n_estimators': 946, 'max_depth': 46, 'min_samples_split': 20, 'min_samples_leaf': 30}. Best is trial 3 with value: -3.022689207517696.\n",
      "[I 2025-05-22 11:56:57,904] Trial 14 finished with value: -3.840482622148228 and parameters: {'n_estimators': 179, 'max_depth': 18, 'min_samples_split': 3, 'min_samples_leaf': 11}. Best is trial 3 with value: -3.022689207517696.\n",
      "[I 2025-05-22 11:56:58,297] Trial 15 finished with value: -3.7718121336312374 and parameters: {'n_estimators': 450, 'max_depth': 21, 'min_samples_split': 27, 'min_samples_leaf': 12}. Best is trial 3 with value: -3.022689207517696.\n",
      "[I 2025-05-22 11:56:58,600] Trial 16 finished with value: -4.988581399585916 and parameters: {'n_estimators': 353, 'max_depth': 32, 'min_samples_split': 6, 'min_samples_leaf': 26}. Best is trial 3 with value: -3.022689207517696.\n",
      "[I 2025-05-22 11:56:58,760] Trial 17 finished with value: -3.60081611795401 and parameters: {'n_estimators': 167, 'max_depth': 50, 'min_samples_split': 25, 'min_samples_leaf': 7}. Best is trial 3 with value: -3.022689207517696.\n",
      "[I 2025-05-22 11:56:58,866] Trial 18 finished with value: -4.881638888039892 and parameters: {'n_estimators': 104, 'max_depth': 43, 'min_samples_split': 23, 'min_samples_leaf': 24}. Best is trial 3 with value: -3.022689207517696.\n",
      "[I 2025-05-22 11:56:59,619] Trial 19 finished with value: -2.6988870705349166 and parameters: {'n_estimators': 794, 'max_depth': 13, 'min_samples_split': 13, 'min_samples_leaf': 4}. Best is trial 19 with value: -2.6988870705349166.\n",
      "[I 2025-05-22 11:57:00,420] Trial 20 finished with value: -2.5288928528728802 and parameters: {'n_estimators': 877, 'max_depth': 35, 'min_samples_split': 12, 'min_samples_leaf': 3}. Best is trial 20 with value: -2.5288928528728802.\n",
      "[I 2025-05-22 11:57:00,773] Trial 21 finished with value: -4.609408263161567 and parameters: {'n_estimators': 380, 'max_depth': 23, 'min_samples_split': 24, 'min_samples_leaf': 21}. Best is trial 20 with value: -2.5288928528728802.\n",
      "[I 2025-05-22 11:57:01,504] Trial 22 finished with value: -4.87153505488733 and parameters: {'n_estimators': 899, 'max_depth': 29, 'min_samples_split': 5, 'min_samples_leaf': 23}. Best is trial 20 with value: -2.5288928528728802.\n",
      "[I 2025-05-22 11:57:02,172] Trial 23 finished with value: -4.001161241867571 and parameters: {'n_estimators': 785, 'max_depth': 33, 'min_samples_split': 25, 'min_samples_leaf': 16}. Best is trial 20 with value: -2.5288928528728802.\n",
      "[I 2025-05-22 11:57:02,719] Trial 24 finished with value: -2.4182201836464934 and parameters: {'n_estimators': 570, 'max_depth': 27, 'min_samples_split': 2, 'min_samples_leaf': 4}. Best is trial 24 with value: -2.4182201836464934.\n",
      "[I 2025-05-22 11:57:02,848] Trial 25 finished with value: -4.083274459694596 and parameters: {'n_estimators': 128, 'max_depth': 36, 'min_samples_split': 11, 'min_samples_leaf': 17}. Best is trial 24 with value: -2.4182201836464934.\n",
      "[I 2025-05-22 11:57:03,573] Trial 26 finished with value: -5.0350469006665435 and parameters: {'n_estimators': 917, 'max_depth': 20, 'min_samples_split': 14, 'min_samples_leaf': 25}. Best is trial 24 with value: -2.4182201836464934.\n",
      "[I 2025-05-22 11:57:03,870] Trial 27 finished with value: -3.0141917029934655 and parameters: {'n_estimators': 306, 'max_depth': 13, 'min_samples_split': 10, 'min_samples_leaf': 6}. Best is trial 24 with value: -2.4182201836464934.\n",
      "[I 2025-05-22 11:57:04,673] Trial 28 finished with value: -5.168532500030047 and parameters: {'n_estimators': 937, 'max_depth': 43, 'min_samples_split': 21, 'min_samples_leaf': 28}. Best is trial 24 with value: -2.4182201836464934.\n",
      "[I 2025-05-22 11:57:05,406] Trial 29 finished with value: -4.175256744663487 and parameters: {'n_estimators': 824, 'max_depth': 17, 'min_samples_split': 29, 'min_samples_leaf': 18}. Best is trial 24 with value: -2.4182201836464934.\n",
      "[I 2025-05-22 11:57:06,207] Trial 30 finished with value: -2.5682284936543383 and parameters: {'n_estimators': 827, 'max_depth': 46, 'min_samples_split': 11, 'min_samples_leaf': 4}. Best is trial 24 with value: -2.4182201836464934.\n",
      "[I 2025-05-22 11:57:06,479] Trial 31 finished with value: -5.16739230059992 and parameters: {'n_estimators': 305, 'max_depth': 27, 'min_samples_split': 27, 'min_samples_leaf': 28}. Best is trial 24 with value: -2.4182201836464934.\n",
      "[I 2025-05-22 11:57:06,586] Trial 32 finished with value: -3.5143424169162167 and parameters: {'n_estimators': 106, 'max_depth': 30, 'min_samples_split': 14, 'min_samples_leaf': 8}. Best is trial 24 with value: -2.4182201836464934.\n",
      "[I 2025-05-22 11:57:06,784] Trial 33 finished with value: -3.9190936083576906 and parameters: {'n_estimators': 207, 'max_depth': 23, 'min_samples_split': 31, 'min_samples_leaf': 11}. Best is trial 24 with value: -2.4182201836464934.\n",
      "[I 2025-05-22 11:57:07,239] Trial 34 finished with value: -5.6065130900388525 and parameters: {'n_estimators': 567, 'max_depth': 38, 'min_samples_split': 13, 'min_samples_leaf': 32}. Best is trial 24 with value: -2.4182201836464934.\n",
      "[I 2025-05-22 11:57:08,143] Trial 35 finished with value: -3.8120069642460406 and parameters: {'n_estimators': 967, 'max_depth': 20, 'min_samples_split': 17, 'min_samples_leaf': 10}. Best is trial 24 with value: -2.4182201836464934.\n",
      "[I 2025-05-22 11:57:08,447] Trial 36 finished with value: -4.0323775234862085 and parameters: {'n_estimators': 356, 'max_depth': 11, 'min_samples_split': 20, 'min_samples_leaf': 17}. Best is trial 24 with value: -2.4182201836464934.\n",
      "[I 2025-05-22 11:57:08,596] Trial 37 finished with value: -3.7116328087685644 and parameters: {'n_estimators': 146, 'max_depth': 21, 'min_samples_split': 30, 'min_samples_leaf': 8}. Best is trial 24 with value: -2.4182201836464934.\n",
      "[I 2025-05-22 11:57:08,852] Trial 38 finished with value: -3.784106553471793 and parameters: {'n_estimators': 230, 'max_depth': 30, 'min_samples_split': 32, 'min_samples_leaf': 8}. Best is trial 24 with value: -2.4182201836464934.\n",
      "[I 2025-05-22 11:57:09,486] Trial 39 finished with value: -4.948050550537172 and parameters: {'n_estimators': 705, 'max_depth': 41, 'min_samples_split': 9, 'min_samples_leaf': 24}. Best is trial 24 with value: -2.4182201836464934.\n",
      "[I 2025-05-22 11:57:09,885] Trial 40 finished with value: -4.171340573057771 and parameters: {'n_estimators': 431, 'max_depth': 35, 'min_samples_split': 21, 'min_samples_leaf': 18}. Best is trial 24 with value: -2.4182201836464934.\n",
      "[I 2025-05-22 11:57:10,053] Trial 41 finished with value: -3.064837629638423 and parameters: {'n_estimators': 181, 'max_depth': 44, 'min_samples_split': 11, 'min_samples_leaf': 6}. Best is trial 24 with value: -2.4182201836464934.\n",
      "[I 2025-05-22 11:57:10,191] Trial 42 finished with value: -3.1867577156017246 and parameters: {'n_estimators': 136, 'max_depth': 34, 'min_samples_split': 23, 'min_samples_leaf': 1}. Best is trial 24 with value: -2.4182201836464934.\n",
      "[I 2025-05-22 11:57:10,726] Trial 43 finished with value: -3.2763809443279603 and parameters: {'n_estimators': 561, 'max_depth': 19, 'min_samples_split': 22, 'min_samples_leaf': 6}. Best is trial 24 with value: -2.4182201836464934.\n",
      "[I 2025-05-22 11:57:11,388] Trial 44 finished with value: -3.5343849810992074 and parameters: {'n_estimators': 722, 'max_depth': 25, 'min_samples_split': 31, 'min_samples_leaf': 5}. Best is trial 24 with value: -2.4182201836464934.\n",
      "[I 2025-05-22 11:57:11,761] Trial 45 finished with value: -5.260046358041409 and parameters: {'n_estimators': 407, 'max_depth': 14, 'min_samples_split': 30, 'min_samples_leaf': 29}. Best is trial 24 with value: -2.4182201836464934.\n",
      "[I 2025-05-22 11:57:12,053] Trial 46 finished with value: -4.194347432124191 and parameters: {'n_estimators': 332, 'max_depth': 37, 'min_samples_split': 27, 'min_samples_leaf': 18}. Best is trial 24 with value: -2.4182201836464934.\n",
      "[I 2025-05-22 11:57:12,538] Trial 47 finished with value: -5.241996703682718 and parameters: {'n_estimators': 577, 'max_depth': 19, 'min_samples_split': 4, 'min_samples_leaf': 29}. Best is trial 24 with value: -2.4182201836464934.\n",
      "[I 2025-05-22 11:57:13,312] Trial 48 finished with value: -3.858189723696525 and parameters: {'n_estimators': 911, 'max_depth': 35, 'min_samples_split': 12, 'min_samples_leaf': 12}. Best is trial 24 with value: -2.4182201836464934.\n",
      "[I 2025-05-22 11:57:13,973] Trial 49 finished with value: -4.961994505198456 and parameters: {'n_estimators': 754, 'max_depth': 46, 'min_samples_split': 29, 'min_samples_leaf': 25}. Best is trial 24 with value: -2.4182201836464934.\n",
      "[I 2025-05-22 11:57:14,532] Trial 50 finished with value: -5.263464209156937 and parameters: {'n_estimators': 678, 'max_depth': 13, 'min_samples_split': 7, 'min_samples_leaf': 29}. Best is trial 24 with value: -2.4182201836464934.\n",
      "[I 2025-05-22 11:57:15,046] Trial 51 finished with value: -4.746060957097617 and parameters: {'n_estimators': 646, 'max_depth': 10, 'min_samples_split': 5, 'min_samples_leaf': 22}. Best is trial 24 with value: -2.4182201836464934.\n",
      "[I 2025-05-22 11:57:15,135] Trial 52 finished with value: -4.900361919705578 and parameters: {'n_estimators': 104, 'max_depth': 16, 'min_samples_split': 19, 'min_samples_leaf': 23}. Best is trial 24 with value: -2.4182201836464934.\n",
      "[I 2025-05-22 11:57:15,730] Trial 53 finished with value: -3.662479437496144 and parameters: {'n_estimators': 687, 'max_depth': 19, 'min_samples_split': 24, 'min_samples_leaf': 8}. Best is trial 24 with value: -2.4182201836464934.\n",
      "[I 2025-05-22 11:57:16,056] Trial 54 finished with value: -5.160157150748525 and parameters: {'n_estimators': 393, 'max_depth': 40, 'min_samples_split': 22, 'min_samples_leaf': 28}. Best is trial 24 with value: -2.4182201836464934.\n",
      "[I 2025-05-22 11:57:16,632] Trial 55 finished with value: -3.878002305678291 and parameters: {'n_estimators': 692, 'max_depth': 33, 'min_samples_split': 4, 'min_samples_leaf': 12}. Best is trial 24 with value: -2.4182201836464934.\n",
      "[I 2025-05-22 11:57:16,928] Trial 56 finished with value: -3.965504311099962 and parameters: {'n_estimators': 338, 'max_depth': 20, 'min_samples_split': 32, 'min_samples_leaf': 13}. Best is trial 24 with value: -2.4182201836464934.\n",
      "[I 2025-05-22 11:57:17,778] Trial 57 finished with value: -4.065319985827829 and parameters: {'n_estimators': 903, 'max_depth': 35, 'min_samples_split': 26, 'min_samples_leaf': 17}. Best is trial 24 with value: -2.4182201836464934.\n",
      "[I 2025-05-22 11:57:18,351] Trial 58 finished with value: -4.954913677572124 and parameters: {'n_estimators': 619, 'max_depth': 30, 'min_samples_split': 8, 'min_samples_leaf': 24}. Best is trial 24 with value: -2.4182201836464934.\n",
      "[I 2025-05-22 11:57:18,684] Trial 59 finished with value: -3.2737855550594395 and parameters: {'n_estimators': 352, 'max_depth': 10, 'min_samples_split': 22, 'min_samples_leaf': 6}. Best is trial 24 with value: -2.4182201836464934.\n",
      "[I 2025-05-22 11:57:19,547] Trial 60 finished with value: -3.8627433443844454 and parameters: {'n_estimators': 947, 'max_depth': 49, 'min_samples_split': 30, 'min_samples_leaf': 12}. Best is trial 24 with value: -2.4182201836464934.\n",
      "[I 2025-05-22 11:57:19,668] Trial 61 finished with value: -5.459093921967408 and parameters: {'n_estimators': 113, 'max_depth': 48, 'min_samples_split': 15, 'min_samples_leaf': 31}. Best is trial 24 with value: -2.4182201836464934.\n",
      "[I 2025-05-22 11:57:20,529] Trial 62 finished with value: -3.872193373790073 and parameters: {'n_estimators': 968, 'max_depth': 44, 'min_samples_split': 11, 'min_samples_leaf': 13}. Best is trial 24 with value: -2.4182201836464934.\n",
      "[I 2025-05-22 11:57:21,833] Trial 63 finished with value: -4.209295801007827 and parameters: {'n_estimators': 866, 'max_depth': 22, 'min_samples_split': 7, 'min_samples_leaf': 18}. Best is trial 24 with value: -2.4182201836464934.\n",
      "[I 2025-05-22 11:57:24,160] Trial 64 finished with value: -2.9814412065689178 and parameters: {'n_estimators': 943, 'max_depth': 38, 'min_samples_split': 19, 'min_samples_leaf': 4}. Best is trial 24 with value: -2.4182201836464934.\n",
      "[I 2025-05-22 11:57:25,316] Trial 65 finished with value: -4.051387541153481 and parameters: {'n_estimators': 654, 'max_depth': 50, 'min_samples_split': 6, 'min_samples_leaf': 17}. Best is trial 24 with value: -2.4182201836464934.\n",
      "[I 2025-05-22 11:57:26,946] Trial 66 finished with value: -4.856248370577376 and parameters: {'n_estimators': 890, 'max_depth': 40, 'min_samples_split': 23, 'min_samples_leaf': 23}. Best is trial 24 with value: -2.4182201836464934.\n",
      "[I 2025-05-22 11:57:27,716] Trial 67 finished with value: -5.078457100116815 and parameters: {'n_estimators': 423, 'max_depth': 22, 'min_samples_split': 27, 'min_samples_leaf': 26}. Best is trial 24 with value: -2.4182201836464934.\n",
      "[I 2025-05-22 11:57:29,692] Trial 68 finished with value: -4.081876168732743 and parameters: {'n_estimators': 881, 'max_depth': 47, 'min_samples_split': 17, 'min_samples_leaf': 17}. Best is trial 24 with value: -2.4182201836464934.\n",
      "[I 2025-05-22 11:57:31,942] Trial 69 finished with value: -5.037635587125527 and parameters: {'n_estimators': 819, 'max_depth': 36, 'min_samples_split': 23, 'min_samples_leaf': 26}. Best is trial 24 with value: -2.4182201836464934.\n",
      "[I 2025-05-22 11:57:34,338] Trial 70 finished with value: -2.6933804781096535 and parameters: {'n_estimators': 901, 'max_depth': 23, 'min_samples_split': 13, 'min_samples_leaf': 4}. Best is trial 24 with value: -2.4182201836464934.\n",
      "[I 2025-05-22 11:57:35,828] Trial 71 finished with value: -4.148015392421996 and parameters: {'n_estimators': 621, 'max_depth': 11, 'min_samples_split': 16, 'min_samples_leaf': 18}. Best is trial 24 with value: -2.4182201836464934.\n",
      "[I 2025-05-22 11:57:36,617] Trial 72 finished with value: -1.8497563987706989 and parameters: {'n_estimators': 358, 'max_depth': 34, 'min_samples_split': 2, 'min_samples_leaf': 2}. Best is trial 72 with value: -1.8497563987706989.\n",
      "[I 2025-05-22 11:57:38,830] Trial 73 finished with value: -4.088678477716318 and parameters: {'n_estimators': 841, 'max_depth': 24, 'min_samples_split': 5, 'min_samples_leaf': 17}. Best is trial 72 with value: -1.8497563987706989.\n",
      "[I 2025-05-22 11:57:40,856] Trial 74 finished with value: -3.0771787141289613 and parameters: {'n_estimators': 793, 'max_depth': 18, 'min_samples_split': 21, 'min_samples_leaf': 3}. Best is trial 72 with value: -1.8497563987706989.\n",
      "[I 2025-05-22 11:57:41,211] Trial 75 finished with value: -4.708657089125553 and parameters: {'n_estimators': 146, 'max_depth': 31, 'min_samples_split': 18, 'min_samples_leaf': 21}. Best is trial 72 with value: -1.8497563987706989.\n",
      "[I 2025-05-22 11:57:42,915] Trial 76 finished with value: -3.8059154352603395 and parameters: {'n_estimators': 754, 'max_depth': 50, 'min_samples_split': 18, 'min_samples_leaf': 11}. Best is trial 72 with value: -1.8497563987706989.\n",
      "[I 2025-05-22 11:57:45,344] Trial 77 finished with value: -2.7514652722200914 and parameters: {'n_estimators': 816, 'max_depth': 21, 'min_samples_split': 15, 'min_samples_leaf': 3}. Best is trial 72 with value: -1.8497563987706989.\n",
      "[I 2025-05-22 11:57:45,601] Trial 78 finished with value: -4.933024225636072 and parameters: {'n_estimators': 122, 'max_depth': 49, 'min_samples_split': 27, 'min_samples_leaf': 23}. Best is trial 72 with value: -1.8497563987706989.\n",
      "[I 2025-05-22 11:57:46,813] Trial 79 finished with value: -3.7020325737943636 and parameters: {'n_estimators': 468, 'max_depth': 17, 'min_samples_split': 6, 'min_samples_leaf': 9}. Best is trial 72 with value: -1.8497563987706989.\n",
      "[I 2025-05-22 11:57:47,992] Trial 80 finished with value: -3.724221605326938 and parameters: {'n_estimators': 594, 'max_depth': 39, 'min_samples_split': 22, 'min_samples_leaf': 9}. Best is trial 72 with value: -1.8497563987706989.\n",
      "[I 2025-05-22 11:57:49,561] Trial 81 finished with value: -4.492941223253703 and parameters: {'n_estimators': 960, 'max_depth': 40, 'min_samples_split': 19, 'min_samples_leaf': 20}. Best is trial 72 with value: -1.8497563987706989.\n",
      "[I 2025-05-22 11:57:50,346] Trial 82 finished with value: -5.0452665416213005 and parameters: {'n_estimators': 478, 'max_depth': 20, 'min_samples_split': 13, 'min_samples_leaf': 25}. Best is trial 72 with value: -1.8497563987706989.\n",
      "[I 2025-05-22 11:57:50,591] Trial 83 finished with value: -1.89174151961541 and parameters: {'n_estimators': 112, 'max_depth': 14, 'min_samples_split': 3, 'min_samples_leaf': 2}. Best is trial 72 with value: -1.8497563987706989.\n",
      "[I 2025-05-22 11:57:52,232] Trial 84 finished with value: -2.8352230600003177 and parameters: {'n_estimators': 870, 'max_depth': 38, 'min_samples_split': 16, 'min_samples_leaf': 4}. Best is trial 72 with value: -1.8497563987706989.\n",
      "[I 2025-05-22 11:57:53,143] Trial 85 finished with value: -3.880193814528698 and parameters: {'n_estimators': 542, 'max_depth': 29, 'min_samples_split': 7, 'min_samples_leaf': 14}. Best is trial 72 with value: -1.8497563987706989.\n",
      "[I 2025-05-22 11:57:53,912] Trial 86 finished with value: -3.096217184393317 and parameters: {'n_estimators': 459, 'max_depth': 35, 'min_samples_split': 21, 'min_samples_leaf': 2}. Best is trial 72 with value: -1.8497563987706989.\n",
      "[I 2025-05-22 11:57:54,547] Trial 87 finished with value: -5.17064981530593 and parameters: {'n_estimators': 437, 'max_depth': 35, 'min_samples_split': 17, 'min_samples_leaf': 28}. Best is trial 72 with value: -1.8497563987706989.\n",
      "[I 2025-05-22 11:57:55,819] Trial 88 finished with value: -4.631255899999288 and parameters: {'n_estimators': 693, 'max_depth': 16, 'min_samples_split': 4, 'min_samples_leaf': 21}. Best is trial 72 with value: -1.8497563987706989.\n",
      "[I 2025-05-22 11:57:56,034] Trial 89 finished with value: -4.365254485372871 and parameters: {'n_estimators': 123, 'max_depth': 34, 'min_samples_split': 31, 'min_samples_leaf': 19}. Best is trial 72 with value: -1.8497563987706989.\n",
      "[I 2025-05-22 11:57:56,985] Trial 90 finished with value: -4.235171646741617 and parameters: {'n_estimators': 449, 'max_depth': 36, 'min_samples_split': 16, 'min_samples_leaf': 18}. Best is trial 72 with value: -1.8497563987706989.\n",
      "[I 2025-05-22 11:57:58,476] Trial 91 finished with value: -5.301604964549533 and parameters: {'n_estimators': 948, 'max_depth': 25, 'min_samples_split': 31, 'min_samples_leaf': 29}. Best is trial 72 with value: -1.8497563987706989.\n",
      "[I 2025-05-22 11:57:59,060] Trial 92 finished with value: -1.9322596696693828 and parameters: {'n_estimators': 276, 'max_depth': 12, 'min_samples_split': 5, 'min_samples_leaf': 1}. Best is trial 72 with value: -1.8497563987706989.\n",
      "[I 2025-05-22 11:57:59,371] Trial 93 finished with value: -3.8985704852499268 and parameters: {'n_estimators': 185, 'max_depth': 38, 'min_samples_split': 4, 'min_samples_leaf': 11}. Best is trial 72 with value: -1.8497563987706989.\n",
      "[I 2025-05-22 11:58:00,807] Trial 94 finished with value: -3.7818546694180553 and parameters: {'n_estimators': 861, 'max_depth': 10, 'min_samples_split': 27, 'min_samples_leaf': 10}. Best is trial 72 with value: -1.8497563987706989.\n",
      "[I 2025-05-22 11:58:01,128] Trial 95 finished with value: -5.223159124852949 and parameters: {'n_estimators': 206, 'max_depth': 38, 'min_samples_split': 21, 'min_samples_leaf': 29}. Best is trial 72 with value: -1.8497563987706989.\n",
      "[I 2025-05-22 11:58:02,614] Trial 96 finished with value: -3.0039814883305613 and parameters: {'n_estimators': 762, 'max_depth': 42, 'min_samples_split': 10, 'min_samples_leaf': 6}. Best is trial 72 with value: -1.8497563987706989.\n",
      "[I 2025-05-22 11:58:03,982] Trial 97 finished with value: -3.926676633039655 and parameters: {'n_estimators': 776, 'max_depth': 43, 'min_samples_split': 32, 'min_samples_leaf': 14}. Best is trial 72 with value: -1.8497563987706989.\n",
      "[I 2025-05-22 11:58:04,674] Trial 98 finished with value: -5.341535996703321 and parameters: {'n_estimators': 435, 'max_depth': 41, 'min_samples_split': 12, 'min_samples_leaf': 30}. Best is trial 72 with value: -1.8497563987706989.\n",
      "[I 2025-05-22 11:58:06,065] Trial 99 finished with value: -4.970272472560683 and parameters: {'n_estimators': 873, 'max_depth': 27, 'min_samples_split': 25, 'min_samples_leaf': 25}. Best is trial 72 with value: -1.8497563987706989.\n"
     ]
    }
   ],
   "source": [
    "import seaborn as sns\n",
    "import pandas as pd\n",
    "from sklearn.model_selection import train_test_split\n",
    "from sklearn.ensemble import RandomForestRegressor\n",
    "from sklearn.metrics import mean_absolute_error, mean_squared_error, r2_score\n",
    "import optuna\n",
    "from sklearn.model_selection import cross_val_score\n",
    "import matplotlib.pyplot as plt\n",
    "import os\n",
    "import requests\n",
    "\n",
    "proxies = {\n",
    "    \"http\": \"http://proxy-dmz.intel.com:911/\",\n",
    "    \"https\": \"http://proxy-dmz.intel.com:911/\",\n",
    "}\n",
    "\n",
    "response = requests.get(\"https://huggingface.co\", proxies=proxies)\n",
    "\n",
    "os.environ['HTTP_PROXY'] = proxies['http']\n",
    "os.environ['HTTPS_PROXY'] = proxies['https']\n",
    "\n",
    "# Load dataset\n",
    "healthexp = sns.load_dataset('healthexp')\n",
    "print(healthexp)\n",
    "\n",
    "# Create categorical data\n",
    "healthexp = pd.get_dummies(healthexp)\n",
    "X = healthexp.drop(['Life_Expectancy'], axis=1)\n",
    "y = healthexp['Life_Expectancy']\n",
    "\n",
    "# Split the data\n",
    "X_train, X_test, y_train, y_test = train_test_split(X, y, test_size=0.2, random_state=19)\n",
    "\n",
    "# Train the model\n",
    "rfr = RandomForestRegressor(random_state=13)\n",
    "rfr.fit(X_train, y_train)\n",
    "\n",
    "# Predict\n",
    "y_pred = rfr.predict(X_test)\n",
    "\n",
    "# Evaluate\n",
    "print(mean_absolute_error(y_test, y_pred))\n",
    "print(mean_squared_error(y_test, y_pred))\n",
    "print(r2_score(y_test, y_pred))\n",
    "\n",
    "# Define objective function for Optuna\n",
    "def objective(trial):\n",
    "    n_estimators = trial.suggest_int('n_estimators', 100, 1000)\n",
    "    max_depth = trial.suggest_int('max_depth', 10, 50)\n",
    "    min_samples_split = trial.suggest_int('min_samples_split', 2, 32)\n",
    "    min_samples_leaf = trial.suggest_int('min_samples_leaf', 1, 32)\n",
    "    model = RandomForestRegressor(n_estimators=n_estimators, max_depth=max_depth, min_samples_split=min_samples_split, min_samples_leaf=min_samples_leaf)\n",
    "    score = cross_val_score(model, X, y, n_jobs=-1, cv=5, scoring='neg_mean_squared_error').mean()\n",
    "    return score\n",
    "\n",
    "# Optimize with Optuna\n",
    "study = optuna.create_study(direction='maximize', sampler=optuna.samplers.RandomSampler(seed=42))\n",
    "study.optimize(objective, n_trials=100)"
   ]
  },
  {
   "cell_type": "code",
   "execution_count": 20,
   "id": "d9aa4ad1",
   "metadata": {},
   "outputs": [
    {
     "name": "stdout",
     "output_type": "stream",
     "text": [
      "Best Hyperparameters: {'n_estimators': 358, 'max_depth': 34, 'min_samples_split': 2, 'min_samples_leaf': 2}\n"
     ]
    }
   ],
   "source": [
    "best_params = study.best_params\n",
    "print(f\"Best Hyperparameters: {best_params}\")"
   ]
  },
  {
   "cell_type": "code",
   "execution_count": 21,
   "id": "00a19ee5",
   "metadata": {},
   "outputs": [
    {
     "name": "stdout",
     "output_type": "stream",
     "text": [
      "Best Accuracy: -1.850\n"
     ]
    }
   ],
   "source": [
    "best_score = study.best_value \n",
    "print(f\"Best Accuracy: {best_score:.3f}\")"
   ]
  },
  {
   "cell_type": "code",
   "execution_count": 22,
   "id": "3aa6d471",
   "metadata": {},
   "outputs": [],
   "source": [
    "import matplotlib.pyplot as plt\n",
    "import optuna.visualization as vis"
   ]
  },
  {
   "cell_type": "code",
   "execution_count": 23,
   "id": "40acde9b",
   "metadata": {},
   "outputs": [
    {
     "ename": "ValueError",
     "evalue": "Mime type rendering requires nbformat>=4.2.0 but it is not installed",
     "output_type": "error",
     "traceback": [
      "\u001b[31m---------------------------------------------------------------------------\u001b[39m",
      "\u001b[31mValueError\u001b[39m                                Traceback (most recent call last)",
      "\u001b[36mFile \u001b[39m\u001b[32m~\\AppData\\Local\\Packages\\PythonSoftwareFoundation.Python.3.11_qbz5n2kfra8p0\\LocalCache\\local-packages\\Python311\\site-packages\\IPython\\core\\formatters.py:984\u001b[39m, in \u001b[36mIPythonDisplayFormatter.__call__\u001b[39m\u001b[34m(self, obj)\u001b[39m\n\u001b[32m    982\u001b[39m method = get_real_method(obj, \u001b[38;5;28mself\u001b[39m.print_method)\n\u001b[32m    983\u001b[39m \u001b[38;5;28;01mif\u001b[39;00m method \u001b[38;5;129;01mis\u001b[39;00m \u001b[38;5;129;01mnot\u001b[39;00m \u001b[38;5;28;01mNone\u001b[39;00m:\n\u001b[32m--> \u001b[39m\u001b[32m984\u001b[39m     \u001b[43mmethod\u001b[49m\u001b[43m(\u001b[49m\u001b[43m)\u001b[49m\n\u001b[32m    985\u001b[39m     \u001b[38;5;28;01mreturn\u001b[39;00m \u001b[38;5;28;01mTrue\u001b[39;00m\n",
      "\u001b[36mFile \u001b[39m\u001b[32m~\\AppData\\Local\\Packages\\PythonSoftwareFoundation.Python.3.11_qbz5n2kfra8p0\\LocalCache\\local-packages\\Python311\\site-packages\\plotly\\basedatatypes.py:846\u001b[39m, in \u001b[36mBaseFigure._ipython_display_\u001b[39m\u001b[34m(self)\u001b[39m\n\u001b[32m    843\u001b[39m \u001b[38;5;28;01mimport\u001b[39;00m\u001b[38;5;250m \u001b[39m\u001b[34;01mplotly\u001b[39;00m\u001b[34;01m.\u001b[39;00m\u001b[34;01mio\u001b[39;00m\u001b[38;5;250m \u001b[39m\u001b[38;5;28;01mas\u001b[39;00m\u001b[38;5;250m \u001b[39m\u001b[34;01mpio\u001b[39;00m\n\u001b[32m    845\u001b[39m \u001b[38;5;28;01mif\u001b[39;00m pio.renderers.render_on_display \u001b[38;5;129;01mand\u001b[39;00m pio.renderers.default:\n\u001b[32m--> \u001b[39m\u001b[32m846\u001b[39m     \u001b[43mpio\u001b[49m\u001b[43m.\u001b[49m\u001b[43mshow\u001b[49m\u001b[43m(\u001b[49m\u001b[38;5;28;43mself\u001b[39;49m\u001b[43m)\u001b[49m\n\u001b[32m    847\u001b[39m \u001b[38;5;28;01melse\u001b[39;00m:\n\u001b[32m    848\u001b[39m     \u001b[38;5;28mprint\u001b[39m(\u001b[38;5;28mrepr\u001b[39m(\u001b[38;5;28mself\u001b[39m))\n",
      "\u001b[36mFile \u001b[39m\u001b[32m~\\AppData\\Local\\Packages\\PythonSoftwareFoundation.Python.3.11_qbz5n2kfra8p0\\LocalCache\\local-packages\\Python311\\site-packages\\plotly\\io\\_renderers.py:425\u001b[39m, in \u001b[36mshow\u001b[39m\u001b[34m(fig, renderer, validate, **kwargs)\u001b[39m\n\u001b[32m    420\u001b[39m     \u001b[38;5;28;01mraise\u001b[39;00m \u001b[38;5;167;01mValueError\u001b[39;00m(\n\u001b[32m    421\u001b[39m         \u001b[33m\"\u001b[39m\u001b[33mMime type rendering requires ipython but it is not installed\u001b[39m\u001b[33m\"\u001b[39m\n\u001b[32m    422\u001b[39m     )\n\u001b[32m    424\u001b[39m \u001b[38;5;28;01mif\u001b[39;00m \u001b[38;5;129;01mnot\u001b[39;00m nbformat \u001b[38;5;129;01mor\u001b[39;00m Version(nbformat.__version__) < Version(\u001b[33m\"\u001b[39m\u001b[33m4.2.0\u001b[39m\u001b[33m\"\u001b[39m):\n\u001b[32m--> \u001b[39m\u001b[32m425\u001b[39m     \u001b[38;5;28;01mraise\u001b[39;00m \u001b[38;5;167;01mValueError\u001b[39;00m(\n\u001b[32m    426\u001b[39m         \u001b[33m\"\u001b[39m\u001b[33mMime type rendering requires nbformat>=4.2.0 but it is not installed\u001b[39m\u001b[33m\"\u001b[39m\n\u001b[32m    427\u001b[39m     )\n\u001b[32m    429\u001b[39m display_jupyter_version_warnings()\n\u001b[32m    431\u001b[39m ipython_display.display(bundle, raw=\u001b[38;5;28;01mTrue\u001b[39;00m)\n",
      "\u001b[31mValueError\u001b[39m: Mime type rendering requires nbformat>=4.2.0 but it is not installed"
     ]
    },
    {
     "data": {
      "application/vnd.plotly.v1+json": {
       "config": {
        "plotlyServerURL": "https://plot.ly"
       },
       "data": [
        {
         "mode": "markers",
         "name": "Objective Value",
         "type": "scatter",
         "x": [
          0,
          1,
          2,
          3,
          4,
          5,
          6,
          7,
          8,
          9,
          10,
          11,
          12,
          13,
          14,
          15,
          16,
          17,
          18,
          19,
          20,
          21,
          22,
          23,
          24,
          25,
          26,
          27,
          28,
          29,
          30,
          31,
          32,
          33,
          34,
          35,
          36,
          37,
          38,
          39,
          40,
          41,
          42,
          43,
          44,
          45,
          46,
          47,
          48,
          49,
          50,
          51,
          52,
          53,
          54,
          55,
          56,
          57,
          58,
          59,
          60,
          61,
          62,
          63,
          64,
          65,
          66,
          67,
          68,
          69,
          70,
          71,
          72,
          73,
          74,
          75,
          76,
          77,
          78,
          79,
          80,
          81,
          82,
          83,
          84,
          85,
          86,
          87,
          88,
          89,
          90,
          91,
          92,
          93,
          94,
          95,
          96,
          97,
          98,
          99
         ],
         "y": [
          -4.454615569597869,
          -5.183287313244845,
          -5.5533065776409245,
          -3.022689207517696,
          -3.8556626829901917,
          -3.8222832281913655,
          -4.038023938697085,
          -3.233022901352885,
          -5.113585736675255,
          -3.9206051737370444,
          -5.250190783550374,
          -4.061369958633055,
          -4.981079822863892,
          -5.358522485421285,
          -3.840482622148228,
          -3.7718121336312374,
          -4.988581399585916,
          -3.60081611795401,
          -4.881638888039892,
          -2.6988870705349166,
          -2.5288928528728802,
          -4.609408263161567,
          -4.87153505488733,
          -4.001161241867571,
          -2.4182201836464934,
          -4.083274459694596,
          -5.0350469006665435,
          -3.0141917029934655,
          -5.168532500030047,
          -4.175256744663487,
          -2.5682284936543383,
          -5.16739230059992,
          -3.5143424169162167,
          -3.9190936083576906,
          -5.6065130900388525,
          -3.8120069642460406,
          -4.0323775234862085,
          -3.7116328087685644,
          -3.784106553471793,
          -4.948050550537172,
          -4.171340573057771,
          -3.064837629638423,
          -3.1867577156017246,
          -3.2763809443279603,
          -3.5343849810992074,
          -5.260046358041409,
          -4.194347432124191,
          -5.241996703682718,
          -3.858189723696525,
          -4.961994505198456,
          -5.263464209156937,
          -4.746060957097617,
          -4.900361919705578,
          -3.662479437496144,
          -5.160157150748525,
          -3.878002305678291,
          -3.965504311099962,
          -4.065319985827829,
          -4.954913677572124,
          -3.2737855550594395,
          -3.8627433443844454,
          -5.459093921967408,
          -3.872193373790073,
          -4.209295801007827,
          -2.9814412065689178,
          -4.051387541153481,
          -4.856248370577376,
          -5.078457100116815,
          -4.081876168732743,
          -5.037635587125527,
          -2.6933804781096535,
          -4.148015392421996,
          -1.8497563987706989,
          -4.088678477716318,
          -3.0771787141289613,
          -4.708657089125553,
          -3.8059154352603395,
          -2.7514652722200914,
          -4.933024225636072,
          -3.7020325737943636,
          -3.724221605326938,
          -4.492941223253703,
          -5.0452665416213005,
          -1.89174151961541,
          -2.8352230600003177,
          -3.880193814528698,
          -3.096217184393317,
          -5.17064981530593,
          -4.631255899999288,
          -4.365254485372871,
          -4.235171646741617,
          -5.301604964549533,
          -1.9322596696693828,
          -3.8985704852499268,
          -3.7818546694180553,
          -5.223159124852949,
          -3.0039814883305613,
          -3.926676633039655,
          -5.341535996703321,
          -4.970272472560683
         ]
        },
        {
         "mode": "lines",
         "name": "Best Value",
         "type": "scatter",
         "x": [
          0,
          1,
          2,
          3,
          4,
          5,
          6,
          7,
          8,
          9,
          10,
          11,
          12,
          13,
          14,
          15,
          16,
          17,
          18,
          19,
          20,
          21,
          22,
          23,
          24,
          25,
          26,
          27,
          28,
          29,
          30,
          31,
          32,
          33,
          34,
          35,
          36,
          37,
          38,
          39,
          40,
          41,
          42,
          43,
          44,
          45,
          46,
          47,
          48,
          49,
          50,
          51,
          52,
          53,
          54,
          55,
          56,
          57,
          58,
          59,
          60,
          61,
          62,
          63,
          64,
          65,
          66,
          67,
          68,
          69,
          70,
          71,
          72,
          73,
          74,
          75,
          76,
          77,
          78,
          79,
          80,
          81,
          82,
          83,
          84,
          85,
          86,
          87,
          88,
          89,
          90,
          91,
          92,
          93,
          94,
          95,
          96,
          97,
          98,
          99
         ],
         "y": [
          -4.454615569597869,
          -4.454615569597869,
          -4.454615569597869,
          -3.022689207517696,
          -3.022689207517696,
          -3.022689207517696,
          -3.022689207517696,
          -3.022689207517696,
          -3.022689207517696,
          -3.022689207517696,
          -3.022689207517696,
          -3.022689207517696,
          -3.022689207517696,
          -3.022689207517696,
          -3.022689207517696,
          -3.022689207517696,
          -3.022689207517696,
          -3.022689207517696,
          -3.022689207517696,
          -2.6988870705349166,
          -2.5288928528728802,
          -2.5288928528728802,
          -2.5288928528728802,
          -2.5288928528728802,
          -2.4182201836464934,
          -2.4182201836464934,
          -2.4182201836464934,
          -2.4182201836464934,
          -2.4182201836464934,
          -2.4182201836464934,
          -2.4182201836464934,
          -2.4182201836464934,
          -2.4182201836464934,
          -2.4182201836464934,
          -2.4182201836464934,
          -2.4182201836464934,
          -2.4182201836464934,
          -2.4182201836464934,
          -2.4182201836464934,
          -2.4182201836464934,
          -2.4182201836464934,
          -2.4182201836464934,
          -2.4182201836464934,
          -2.4182201836464934,
          -2.4182201836464934,
          -2.4182201836464934,
          -2.4182201836464934,
          -2.4182201836464934,
          -2.4182201836464934,
          -2.4182201836464934,
          -2.4182201836464934,
          -2.4182201836464934,
          -2.4182201836464934,
          -2.4182201836464934,
          -2.4182201836464934,
          -2.4182201836464934,
          -2.4182201836464934,
          -2.4182201836464934,
          -2.4182201836464934,
          -2.4182201836464934,
          -2.4182201836464934,
          -2.4182201836464934,
          -2.4182201836464934,
          -2.4182201836464934,
          -2.4182201836464934,
          -2.4182201836464934,
          -2.4182201836464934,
          -2.4182201836464934,
          -2.4182201836464934,
          -2.4182201836464934,
          -2.4182201836464934,
          -2.4182201836464934,
          -1.8497563987706989,
          -1.8497563987706989,
          -1.8497563987706989,
          -1.8497563987706989,
          -1.8497563987706989,
          -1.8497563987706989,
          -1.8497563987706989,
          -1.8497563987706989,
          -1.8497563987706989,
          -1.8497563987706989,
          -1.8497563987706989,
          -1.8497563987706989,
          -1.8497563987706989,
          -1.8497563987706989,
          -1.8497563987706989,
          -1.8497563987706989,
          -1.8497563987706989,
          -1.8497563987706989,
          -1.8497563987706989,
          -1.8497563987706989,
          -1.8497563987706989,
          -1.8497563987706989,
          -1.8497563987706989,
          -1.8497563987706989,
          -1.8497563987706989,
          -1.8497563987706989,
          -1.8497563987706989,
          -1.8497563987706989
         ]
        },
        {
         "marker": {
          "color": "#cccccc"
         },
         "mode": "markers",
         "name": "Infeasible Trial",
         "showlegend": false,
         "type": "scatter",
         "x": [],
         "y": []
        }
       ],
       "layout": {
        "template": {
         "data": {
          "bar": [
           {
            "error_x": {
             "color": "#2a3f5f"
            },
            "error_y": {
             "color": "#2a3f5f"
            },
            "marker": {
             "line": {
              "color": "#E5ECF6",
              "width": 0.5
             },
             "pattern": {
              "fillmode": "overlay",
              "size": 10,
              "solidity": 0.2
             }
            },
            "type": "bar"
           }
          ],
          "barpolar": [
           {
            "marker": {
             "line": {
              "color": "#E5ECF6",
              "width": 0.5
             },
             "pattern": {
              "fillmode": "overlay",
              "size": 10,
              "solidity": 0.2
             }
            },
            "type": "barpolar"
           }
          ],
          "carpet": [
           {
            "aaxis": {
             "endlinecolor": "#2a3f5f",
             "gridcolor": "white",
             "linecolor": "white",
             "minorgridcolor": "white",
             "startlinecolor": "#2a3f5f"
            },
            "baxis": {
             "endlinecolor": "#2a3f5f",
             "gridcolor": "white",
             "linecolor": "white",
             "minorgridcolor": "white",
             "startlinecolor": "#2a3f5f"
            },
            "type": "carpet"
           }
          ],
          "choropleth": [
           {
            "colorbar": {
             "outlinewidth": 0,
             "ticks": ""
            },
            "type": "choropleth"
           }
          ],
          "contour": [
           {
            "colorbar": {
             "outlinewidth": 0,
             "ticks": ""
            },
            "colorscale": [
             [
              0,
              "#0d0887"
             ],
             [
              0.1111111111111111,
              "#46039f"
             ],
             [
              0.2222222222222222,
              "#7201a8"
             ],
             [
              0.3333333333333333,
              "#9c179e"
             ],
             [
              0.4444444444444444,
              "#bd3786"
             ],
             [
              0.5555555555555556,
              "#d8576b"
             ],
             [
              0.6666666666666666,
              "#ed7953"
             ],
             [
              0.7777777777777778,
              "#fb9f3a"
             ],
             [
              0.8888888888888888,
              "#fdca26"
             ],
             [
              1,
              "#f0f921"
             ]
            ],
            "type": "contour"
           }
          ],
          "contourcarpet": [
           {
            "colorbar": {
             "outlinewidth": 0,
             "ticks": ""
            },
            "type": "contourcarpet"
           }
          ],
          "heatmap": [
           {
            "colorbar": {
             "outlinewidth": 0,
             "ticks": ""
            },
            "colorscale": [
             [
              0,
              "#0d0887"
             ],
             [
              0.1111111111111111,
              "#46039f"
             ],
             [
              0.2222222222222222,
              "#7201a8"
             ],
             [
              0.3333333333333333,
              "#9c179e"
             ],
             [
              0.4444444444444444,
              "#bd3786"
             ],
             [
              0.5555555555555556,
              "#d8576b"
             ],
             [
              0.6666666666666666,
              "#ed7953"
             ],
             [
              0.7777777777777778,
              "#fb9f3a"
             ],
             [
              0.8888888888888888,
              "#fdca26"
             ],
             [
              1,
              "#f0f921"
             ]
            ],
            "type": "heatmap"
           }
          ],
          "histogram": [
           {
            "marker": {
             "pattern": {
              "fillmode": "overlay",
              "size": 10,
              "solidity": 0.2
             }
            },
            "type": "histogram"
           }
          ],
          "histogram2d": [
           {
            "colorbar": {
             "outlinewidth": 0,
             "ticks": ""
            },
            "colorscale": [
             [
              0,
              "#0d0887"
             ],
             [
              0.1111111111111111,
              "#46039f"
             ],
             [
              0.2222222222222222,
              "#7201a8"
             ],
             [
              0.3333333333333333,
              "#9c179e"
             ],
             [
              0.4444444444444444,
              "#bd3786"
             ],
             [
              0.5555555555555556,
              "#d8576b"
             ],
             [
              0.6666666666666666,
              "#ed7953"
             ],
             [
              0.7777777777777778,
              "#fb9f3a"
             ],
             [
              0.8888888888888888,
              "#fdca26"
             ],
             [
              1,
              "#f0f921"
             ]
            ],
            "type": "histogram2d"
           }
          ],
          "histogram2dcontour": [
           {
            "colorbar": {
             "outlinewidth": 0,
             "ticks": ""
            },
            "colorscale": [
             [
              0,
              "#0d0887"
             ],
             [
              0.1111111111111111,
              "#46039f"
             ],
             [
              0.2222222222222222,
              "#7201a8"
             ],
             [
              0.3333333333333333,
              "#9c179e"
             ],
             [
              0.4444444444444444,
              "#bd3786"
             ],
             [
              0.5555555555555556,
              "#d8576b"
             ],
             [
              0.6666666666666666,
              "#ed7953"
             ],
             [
              0.7777777777777778,
              "#fb9f3a"
             ],
             [
              0.8888888888888888,
              "#fdca26"
             ],
             [
              1,
              "#f0f921"
             ]
            ],
            "type": "histogram2dcontour"
           }
          ],
          "mesh3d": [
           {
            "colorbar": {
             "outlinewidth": 0,
             "ticks": ""
            },
            "type": "mesh3d"
           }
          ],
          "parcoords": [
           {
            "line": {
             "colorbar": {
              "outlinewidth": 0,
              "ticks": ""
             }
            },
            "type": "parcoords"
           }
          ],
          "pie": [
           {
            "automargin": true,
            "type": "pie"
           }
          ],
          "scatter": [
           {
            "fillpattern": {
             "fillmode": "overlay",
             "size": 10,
             "solidity": 0.2
            },
            "type": "scatter"
           }
          ],
          "scatter3d": [
           {
            "line": {
             "colorbar": {
              "outlinewidth": 0,
              "ticks": ""
             }
            },
            "marker": {
             "colorbar": {
              "outlinewidth": 0,
              "ticks": ""
             }
            },
            "type": "scatter3d"
           }
          ],
          "scattercarpet": [
           {
            "marker": {
             "colorbar": {
              "outlinewidth": 0,
              "ticks": ""
             }
            },
            "type": "scattercarpet"
           }
          ],
          "scattergeo": [
           {
            "marker": {
             "colorbar": {
              "outlinewidth": 0,
              "ticks": ""
             }
            },
            "type": "scattergeo"
           }
          ],
          "scattergl": [
           {
            "marker": {
             "colorbar": {
              "outlinewidth": 0,
              "ticks": ""
             }
            },
            "type": "scattergl"
           }
          ],
          "scattermap": [
           {
            "marker": {
             "colorbar": {
              "outlinewidth": 0,
              "ticks": ""
             }
            },
            "type": "scattermap"
           }
          ],
          "scattermapbox": [
           {
            "marker": {
             "colorbar": {
              "outlinewidth": 0,
              "ticks": ""
             }
            },
            "type": "scattermapbox"
           }
          ],
          "scatterpolar": [
           {
            "marker": {
             "colorbar": {
              "outlinewidth": 0,
              "ticks": ""
             }
            },
            "type": "scatterpolar"
           }
          ],
          "scatterpolargl": [
           {
            "marker": {
             "colorbar": {
              "outlinewidth": 0,
              "ticks": ""
             }
            },
            "type": "scatterpolargl"
           }
          ],
          "scatterternary": [
           {
            "marker": {
             "colorbar": {
              "outlinewidth": 0,
              "ticks": ""
             }
            },
            "type": "scatterternary"
           }
          ],
          "surface": [
           {
            "colorbar": {
             "outlinewidth": 0,
             "ticks": ""
            },
            "colorscale": [
             [
              0,
              "#0d0887"
             ],
             [
              0.1111111111111111,
              "#46039f"
             ],
             [
              0.2222222222222222,
              "#7201a8"
             ],
             [
              0.3333333333333333,
              "#9c179e"
             ],
             [
              0.4444444444444444,
              "#bd3786"
             ],
             [
              0.5555555555555556,
              "#d8576b"
             ],
             [
              0.6666666666666666,
              "#ed7953"
             ],
             [
              0.7777777777777778,
              "#fb9f3a"
             ],
             [
              0.8888888888888888,
              "#fdca26"
             ],
             [
              1,
              "#f0f921"
             ]
            ],
            "type": "surface"
           }
          ],
          "table": [
           {
            "cells": {
             "fill": {
              "color": "#EBF0F8"
             },
             "line": {
              "color": "white"
             }
            },
            "header": {
             "fill": {
              "color": "#C8D4E3"
             },
             "line": {
              "color": "white"
             }
            },
            "type": "table"
           }
          ]
         },
         "layout": {
          "annotationdefaults": {
           "arrowcolor": "#2a3f5f",
           "arrowhead": 0,
           "arrowwidth": 1
          },
          "autotypenumbers": "strict",
          "coloraxis": {
           "colorbar": {
            "outlinewidth": 0,
            "ticks": ""
           }
          },
          "colorscale": {
           "diverging": [
            [
             0,
             "#8e0152"
            ],
            [
             0.1,
             "#c51b7d"
            ],
            [
             0.2,
             "#de77ae"
            ],
            [
             0.3,
             "#f1b6da"
            ],
            [
             0.4,
             "#fde0ef"
            ],
            [
             0.5,
             "#f7f7f7"
            ],
            [
             0.6,
             "#e6f5d0"
            ],
            [
             0.7,
             "#b8e186"
            ],
            [
             0.8,
             "#7fbc41"
            ],
            [
             0.9,
             "#4d9221"
            ],
            [
             1,
             "#276419"
            ]
           ],
           "sequential": [
            [
             0,
             "#0d0887"
            ],
            [
             0.1111111111111111,
             "#46039f"
            ],
            [
             0.2222222222222222,
             "#7201a8"
            ],
            [
             0.3333333333333333,
             "#9c179e"
            ],
            [
             0.4444444444444444,
             "#bd3786"
            ],
            [
             0.5555555555555556,
             "#d8576b"
            ],
            [
             0.6666666666666666,
             "#ed7953"
            ],
            [
             0.7777777777777778,
             "#fb9f3a"
            ],
            [
             0.8888888888888888,
             "#fdca26"
            ],
            [
             1,
             "#f0f921"
            ]
           ],
           "sequentialminus": [
            [
             0,
             "#0d0887"
            ],
            [
             0.1111111111111111,
             "#46039f"
            ],
            [
             0.2222222222222222,
             "#7201a8"
            ],
            [
             0.3333333333333333,
             "#9c179e"
            ],
            [
             0.4444444444444444,
             "#bd3786"
            ],
            [
             0.5555555555555556,
             "#d8576b"
            ],
            [
             0.6666666666666666,
             "#ed7953"
            ],
            [
             0.7777777777777778,
             "#fb9f3a"
            ],
            [
             0.8888888888888888,
             "#fdca26"
            ],
            [
             1,
             "#f0f921"
            ]
           ]
          },
          "colorway": [
           "#636efa",
           "#EF553B",
           "#00cc96",
           "#ab63fa",
           "#FFA15A",
           "#19d3f3",
           "#FF6692",
           "#B6E880",
           "#FF97FF",
           "#FECB52"
          ],
          "font": {
           "color": "#2a3f5f"
          },
          "geo": {
           "bgcolor": "white",
           "lakecolor": "white",
           "landcolor": "#E5ECF6",
           "showlakes": true,
           "showland": true,
           "subunitcolor": "white"
          },
          "hoverlabel": {
           "align": "left"
          },
          "hovermode": "closest",
          "mapbox": {
           "style": "light"
          },
          "paper_bgcolor": "white",
          "plot_bgcolor": "#E5ECF6",
          "polar": {
           "angularaxis": {
            "gridcolor": "white",
            "linecolor": "white",
            "ticks": ""
           },
           "bgcolor": "#E5ECF6",
           "radialaxis": {
            "gridcolor": "white",
            "linecolor": "white",
            "ticks": ""
           }
          },
          "scene": {
           "xaxis": {
            "backgroundcolor": "#E5ECF6",
            "gridcolor": "white",
            "gridwidth": 2,
            "linecolor": "white",
            "showbackground": true,
            "ticks": "",
            "zerolinecolor": "white"
           },
           "yaxis": {
            "backgroundcolor": "#E5ECF6",
            "gridcolor": "white",
            "gridwidth": 2,
            "linecolor": "white",
            "showbackground": true,
            "ticks": "",
            "zerolinecolor": "white"
           },
           "zaxis": {
            "backgroundcolor": "#E5ECF6",
            "gridcolor": "white",
            "gridwidth": 2,
            "linecolor": "white",
            "showbackground": true,
            "ticks": "",
            "zerolinecolor": "white"
           }
          },
          "shapedefaults": {
           "line": {
            "color": "#2a3f5f"
           }
          },
          "ternary": {
           "aaxis": {
            "gridcolor": "white",
            "linecolor": "white",
            "ticks": ""
           },
           "baxis": {
            "gridcolor": "white",
            "linecolor": "white",
            "ticks": ""
           },
           "bgcolor": "#E5ECF6",
           "caxis": {
            "gridcolor": "white",
            "linecolor": "white",
            "ticks": ""
           }
          },
          "title": {
           "x": 0.05
          },
          "xaxis": {
           "automargin": true,
           "gridcolor": "white",
           "linecolor": "white",
           "ticks": "",
           "title": {
            "standoff": 15
           },
           "zerolinecolor": "white",
           "zerolinewidth": 2
          },
          "yaxis": {
           "automargin": true,
           "gridcolor": "white",
           "linecolor": "white",
           "ticks": "",
           "title": {
            "standoff": 15
           },
           "zerolinecolor": "white",
           "zerolinewidth": 2
          }
         }
        },
        "title": {
         "text": "Optimization History Plot"
        },
        "xaxis": {
         "title": {
          "text": "Trial"
         }
        },
        "yaxis": {
         "title": {
          "text": "Objective Value"
         }
        }
       }
      },
      "text/html": [
       "<div>                        <script type=\"text/javascript\">window.PlotlyConfig = {MathJaxConfig: 'local'};</script>\n",
       "        <script charset=\"utf-8\" src=\"https://cdn.plot.ly/plotly-3.0.1.min.js\"></script>                <div id=\"23877e35-f14d-4e59-b327-0ff0701e0f1a\" class=\"plotly-graph-div\" style=\"height:100%; width:100%;\"></div>            <script type=\"text/javascript\">                window.PLOTLYENV=window.PLOTLYENV || {};                                if (document.getElementById(\"23877e35-f14d-4e59-b327-0ff0701e0f1a\")) {                    Plotly.newPlot(                        \"23877e35-f14d-4e59-b327-0ff0701e0f1a\",                        [{\"mode\":\"markers\",\"name\":\"Objective Value\",\"x\":[0,1,2,3,4,5,6,7,8,9,10,11,12,13,14,15,16,17,18,19,20,21,22,23,24,25,26,27,28,29,30,31,32,33,34,35,36,37,38,39,40,41,42,43,44,45,46,47,48,49,50,51,52,53,54,55,56,57,58,59,60,61,62,63,64,65,66,67,68,69,70,71,72,73,74,75,76,77,78,79,80,81,82,83,84,85,86,87,88,89,90,91,92,93,94,95,96,97,98,99],\"y\":[-4.454615569597869,-5.183287313244845,-5.5533065776409245,-3.022689207517696,-3.8556626829901917,-3.8222832281913655,-4.038023938697085,-3.233022901352885,-5.113585736675255,-3.9206051737370444,-5.250190783550374,-4.061369958633055,-4.981079822863892,-5.358522485421285,-3.840482622148228,-3.7718121336312374,-4.988581399585916,-3.60081611795401,-4.881638888039892,-2.6988870705349166,-2.5288928528728802,-4.609408263161567,-4.87153505488733,-4.001161241867571,-2.4182201836464934,-4.083274459694596,-5.0350469006665435,-3.0141917029934655,-5.168532500030047,-4.175256744663487,-2.5682284936543383,-5.16739230059992,-3.5143424169162167,-3.9190936083576906,-5.6065130900388525,-3.8120069642460406,-4.0323775234862085,-3.7116328087685644,-3.784106553471793,-4.948050550537172,-4.171340573057771,-3.064837629638423,-3.1867577156017246,-3.2763809443279603,-3.5343849810992074,-5.260046358041409,-4.194347432124191,-5.241996703682718,-3.858189723696525,-4.961994505198456,-5.263464209156937,-4.746060957097617,-4.900361919705578,-3.662479437496144,-5.160157150748525,-3.878002305678291,-3.965504311099962,-4.065319985827829,-4.954913677572124,-3.2737855550594395,-3.8627433443844454,-5.459093921967408,-3.872193373790073,-4.209295801007827,-2.9814412065689178,-4.051387541153481,-4.856248370577376,-5.078457100116815,-4.081876168732743,-5.037635587125527,-2.6933804781096535,-4.148015392421996,-1.8497563987706989,-4.088678477716318,-3.0771787141289613,-4.708657089125553,-3.8059154352603395,-2.7514652722200914,-4.933024225636072,-3.7020325737943636,-3.724221605326938,-4.492941223253703,-5.0452665416213005,-1.89174151961541,-2.8352230600003177,-3.880193814528698,-3.096217184393317,-5.17064981530593,-4.631255899999288,-4.365254485372871,-4.235171646741617,-5.301604964549533,-1.9322596696693828,-3.8985704852499268,-3.7818546694180553,-5.223159124852949,-3.0039814883305613,-3.926676633039655,-5.341535996703321,-4.970272472560683],\"type\":\"scatter\"},{\"mode\":\"lines\",\"name\":\"Best Value\",\"x\":[0,1,2,3,4,5,6,7,8,9,10,11,12,13,14,15,16,17,18,19,20,21,22,23,24,25,26,27,28,29,30,31,32,33,34,35,36,37,38,39,40,41,42,43,44,45,46,47,48,49,50,51,52,53,54,55,56,57,58,59,60,61,62,63,64,65,66,67,68,69,70,71,72,73,74,75,76,77,78,79,80,81,82,83,84,85,86,87,88,89,90,91,92,93,94,95,96,97,98,99],\"y\":[-4.454615569597869,-4.454615569597869,-4.454615569597869,-3.022689207517696,-3.022689207517696,-3.022689207517696,-3.022689207517696,-3.022689207517696,-3.022689207517696,-3.022689207517696,-3.022689207517696,-3.022689207517696,-3.022689207517696,-3.022689207517696,-3.022689207517696,-3.022689207517696,-3.022689207517696,-3.022689207517696,-3.022689207517696,-2.6988870705349166,-2.5288928528728802,-2.5288928528728802,-2.5288928528728802,-2.5288928528728802,-2.4182201836464934,-2.4182201836464934,-2.4182201836464934,-2.4182201836464934,-2.4182201836464934,-2.4182201836464934,-2.4182201836464934,-2.4182201836464934,-2.4182201836464934,-2.4182201836464934,-2.4182201836464934,-2.4182201836464934,-2.4182201836464934,-2.4182201836464934,-2.4182201836464934,-2.4182201836464934,-2.4182201836464934,-2.4182201836464934,-2.4182201836464934,-2.4182201836464934,-2.4182201836464934,-2.4182201836464934,-2.4182201836464934,-2.4182201836464934,-2.4182201836464934,-2.4182201836464934,-2.4182201836464934,-2.4182201836464934,-2.4182201836464934,-2.4182201836464934,-2.4182201836464934,-2.4182201836464934,-2.4182201836464934,-2.4182201836464934,-2.4182201836464934,-2.4182201836464934,-2.4182201836464934,-2.4182201836464934,-2.4182201836464934,-2.4182201836464934,-2.4182201836464934,-2.4182201836464934,-2.4182201836464934,-2.4182201836464934,-2.4182201836464934,-2.4182201836464934,-2.4182201836464934,-2.4182201836464934,-1.8497563987706989,-1.8497563987706989,-1.8497563987706989,-1.8497563987706989,-1.8497563987706989,-1.8497563987706989,-1.8497563987706989,-1.8497563987706989,-1.8497563987706989,-1.8497563987706989,-1.8497563987706989,-1.8497563987706989,-1.8497563987706989,-1.8497563987706989,-1.8497563987706989,-1.8497563987706989,-1.8497563987706989,-1.8497563987706989,-1.8497563987706989,-1.8497563987706989,-1.8497563987706989,-1.8497563987706989,-1.8497563987706989,-1.8497563987706989,-1.8497563987706989,-1.8497563987706989,-1.8497563987706989,-1.8497563987706989],\"type\":\"scatter\"},{\"marker\":{\"color\":\"#cccccc\"},\"mode\":\"markers\",\"name\":\"Infeasible Trial\",\"showlegend\":false,\"x\":[],\"y\":[],\"type\":\"scatter\"}],                        {\"title\":{\"text\":\"Optimization History Plot\"},\"xaxis\":{\"title\":{\"text\":\"Trial\"}},\"yaxis\":{\"title\":{\"text\":\"Objective Value\"}},\"template\":{\"data\":{\"histogram2dcontour\":[{\"type\":\"histogram2dcontour\",\"colorbar\":{\"outlinewidth\":0,\"ticks\":\"\"},\"colorscale\":[[0.0,\"#0d0887\"],[0.1111111111111111,\"#46039f\"],[0.2222222222222222,\"#7201a8\"],[0.3333333333333333,\"#9c179e\"],[0.4444444444444444,\"#bd3786\"],[0.5555555555555556,\"#d8576b\"],[0.6666666666666666,\"#ed7953\"],[0.7777777777777778,\"#fb9f3a\"],[0.8888888888888888,\"#fdca26\"],[1.0,\"#f0f921\"]]}],\"choropleth\":[{\"type\":\"choropleth\",\"colorbar\":{\"outlinewidth\":0,\"ticks\":\"\"}}],\"histogram2d\":[{\"type\":\"histogram2d\",\"colorbar\":{\"outlinewidth\":0,\"ticks\":\"\"},\"colorscale\":[[0.0,\"#0d0887\"],[0.1111111111111111,\"#46039f\"],[0.2222222222222222,\"#7201a8\"],[0.3333333333333333,\"#9c179e\"],[0.4444444444444444,\"#bd3786\"],[0.5555555555555556,\"#d8576b\"],[0.6666666666666666,\"#ed7953\"],[0.7777777777777778,\"#fb9f3a\"],[0.8888888888888888,\"#fdca26\"],[1.0,\"#f0f921\"]]}],\"heatmap\":[{\"type\":\"heatmap\",\"colorbar\":{\"outlinewidth\":0,\"ticks\":\"\"},\"colorscale\":[[0.0,\"#0d0887\"],[0.1111111111111111,\"#46039f\"],[0.2222222222222222,\"#7201a8\"],[0.3333333333333333,\"#9c179e\"],[0.4444444444444444,\"#bd3786\"],[0.5555555555555556,\"#d8576b\"],[0.6666666666666666,\"#ed7953\"],[0.7777777777777778,\"#fb9f3a\"],[0.8888888888888888,\"#fdca26\"],[1.0,\"#f0f921\"]]}],\"contourcarpet\":[{\"type\":\"contourcarpet\",\"colorbar\":{\"outlinewidth\":0,\"ticks\":\"\"}}],\"contour\":[{\"type\":\"contour\",\"colorbar\":{\"outlinewidth\":0,\"ticks\":\"\"},\"colorscale\":[[0.0,\"#0d0887\"],[0.1111111111111111,\"#46039f\"],[0.2222222222222222,\"#7201a8\"],[0.3333333333333333,\"#9c179e\"],[0.4444444444444444,\"#bd3786\"],[0.5555555555555556,\"#d8576b\"],[0.6666666666666666,\"#ed7953\"],[0.7777777777777778,\"#fb9f3a\"],[0.8888888888888888,\"#fdca26\"],[1.0,\"#f0f921\"]]}],\"surface\":[{\"type\":\"surface\",\"colorbar\":{\"outlinewidth\":0,\"ticks\":\"\"},\"colorscale\":[[0.0,\"#0d0887\"],[0.1111111111111111,\"#46039f\"],[0.2222222222222222,\"#7201a8\"],[0.3333333333333333,\"#9c179e\"],[0.4444444444444444,\"#bd3786\"],[0.5555555555555556,\"#d8576b\"],[0.6666666666666666,\"#ed7953\"],[0.7777777777777778,\"#fb9f3a\"],[0.8888888888888888,\"#fdca26\"],[1.0,\"#f0f921\"]]}],\"mesh3d\":[{\"type\":\"mesh3d\",\"colorbar\":{\"outlinewidth\":0,\"ticks\":\"\"}}],\"scatter\":[{\"fillpattern\":{\"fillmode\":\"overlay\",\"size\":10,\"solidity\":0.2},\"type\":\"scatter\"}],\"parcoords\":[{\"type\":\"parcoords\",\"line\":{\"colorbar\":{\"outlinewidth\":0,\"ticks\":\"\"}}}],\"scatterpolargl\":[{\"type\":\"scatterpolargl\",\"marker\":{\"colorbar\":{\"outlinewidth\":0,\"ticks\":\"\"}}}],\"bar\":[{\"error_x\":{\"color\":\"#2a3f5f\"},\"error_y\":{\"color\":\"#2a3f5f\"},\"marker\":{\"line\":{\"color\":\"#E5ECF6\",\"width\":0.5},\"pattern\":{\"fillmode\":\"overlay\",\"size\":10,\"solidity\":0.2}},\"type\":\"bar\"}],\"scattergeo\":[{\"type\":\"scattergeo\",\"marker\":{\"colorbar\":{\"outlinewidth\":0,\"ticks\":\"\"}}}],\"scatterpolar\":[{\"type\":\"scatterpolar\",\"marker\":{\"colorbar\":{\"outlinewidth\":0,\"ticks\":\"\"}}}],\"histogram\":[{\"marker\":{\"pattern\":{\"fillmode\":\"overlay\",\"size\":10,\"solidity\":0.2}},\"type\":\"histogram\"}],\"scattergl\":[{\"type\":\"scattergl\",\"marker\":{\"colorbar\":{\"outlinewidth\":0,\"ticks\":\"\"}}}],\"scatter3d\":[{\"type\":\"scatter3d\",\"line\":{\"colorbar\":{\"outlinewidth\":0,\"ticks\":\"\"}},\"marker\":{\"colorbar\":{\"outlinewidth\":0,\"ticks\":\"\"}}}],\"scattermap\":[{\"type\":\"scattermap\",\"marker\":{\"colorbar\":{\"outlinewidth\":0,\"ticks\":\"\"}}}],\"scattermapbox\":[{\"type\":\"scattermapbox\",\"marker\":{\"colorbar\":{\"outlinewidth\":0,\"ticks\":\"\"}}}],\"scatterternary\":[{\"type\":\"scatterternary\",\"marker\":{\"colorbar\":{\"outlinewidth\":0,\"ticks\":\"\"}}}],\"scattercarpet\":[{\"type\":\"scattercarpet\",\"marker\":{\"colorbar\":{\"outlinewidth\":0,\"ticks\":\"\"}}}],\"carpet\":[{\"aaxis\":{\"endlinecolor\":\"#2a3f5f\",\"gridcolor\":\"white\",\"linecolor\":\"white\",\"minorgridcolor\":\"white\",\"startlinecolor\":\"#2a3f5f\"},\"baxis\":{\"endlinecolor\":\"#2a3f5f\",\"gridcolor\":\"white\",\"linecolor\":\"white\",\"minorgridcolor\":\"white\",\"startlinecolor\":\"#2a3f5f\"},\"type\":\"carpet\"}],\"table\":[{\"cells\":{\"fill\":{\"color\":\"#EBF0F8\"},\"line\":{\"color\":\"white\"}},\"header\":{\"fill\":{\"color\":\"#C8D4E3\"},\"line\":{\"color\":\"white\"}},\"type\":\"table\"}],\"barpolar\":[{\"marker\":{\"line\":{\"color\":\"#E5ECF6\",\"width\":0.5},\"pattern\":{\"fillmode\":\"overlay\",\"size\":10,\"solidity\":0.2}},\"type\":\"barpolar\"}],\"pie\":[{\"automargin\":true,\"type\":\"pie\"}]},\"layout\":{\"autotypenumbers\":\"strict\",\"colorway\":[\"#636efa\",\"#EF553B\",\"#00cc96\",\"#ab63fa\",\"#FFA15A\",\"#19d3f3\",\"#FF6692\",\"#B6E880\",\"#FF97FF\",\"#FECB52\"],\"font\":{\"color\":\"#2a3f5f\"},\"hovermode\":\"closest\",\"hoverlabel\":{\"align\":\"left\"},\"paper_bgcolor\":\"white\",\"plot_bgcolor\":\"#E5ECF6\",\"polar\":{\"bgcolor\":\"#E5ECF6\",\"angularaxis\":{\"gridcolor\":\"white\",\"linecolor\":\"white\",\"ticks\":\"\"},\"radialaxis\":{\"gridcolor\":\"white\",\"linecolor\":\"white\",\"ticks\":\"\"}},\"ternary\":{\"bgcolor\":\"#E5ECF6\",\"aaxis\":{\"gridcolor\":\"white\",\"linecolor\":\"white\",\"ticks\":\"\"},\"baxis\":{\"gridcolor\":\"white\",\"linecolor\":\"white\",\"ticks\":\"\"},\"caxis\":{\"gridcolor\":\"white\",\"linecolor\":\"white\",\"ticks\":\"\"}},\"coloraxis\":{\"colorbar\":{\"outlinewidth\":0,\"ticks\":\"\"}},\"colorscale\":{\"sequential\":[[0.0,\"#0d0887\"],[0.1111111111111111,\"#46039f\"],[0.2222222222222222,\"#7201a8\"],[0.3333333333333333,\"#9c179e\"],[0.4444444444444444,\"#bd3786\"],[0.5555555555555556,\"#d8576b\"],[0.6666666666666666,\"#ed7953\"],[0.7777777777777778,\"#fb9f3a\"],[0.8888888888888888,\"#fdca26\"],[1.0,\"#f0f921\"]],\"sequentialminus\":[[0.0,\"#0d0887\"],[0.1111111111111111,\"#46039f\"],[0.2222222222222222,\"#7201a8\"],[0.3333333333333333,\"#9c179e\"],[0.4444444444444444,\"#bd3786\"],[0.5555555555555556,\"#d8576b\"],[0.6666666666666666,\"#ed7953\"],[0.7777777777777778,\"#fb9f3a\"],[0.8888888888888888,\"#fdca26\"],[1.0,\"#f0f921\"]],\"diverging\":[[0,\"#8e0152\"],[0.1,\"#c51b7d\"],[0.2,\"#de77ae\"],[0.3,\"#f1b6da\"],[0.4,\"#fde0ef\"],[0.5,\"#f7f7f7\"],[0.6,\"#e6f5d0\"],[0.7,\"#b8e186\"],[0.8,\"#7fbc41\"],[0.9,\"#4d9221\"],[1,\"#276419\"]]},\"xaxis\":{\"gridcolor\":\"white\",\"linecolor\":\"white\",\"ticks\":\"\",\"title\":{\"standoff\":15},\"zerolinecolor\":\"white\",\"automargin\":true,\"zerolinewidth\":2},\"yaxis\":{\"gridcolor\":\"white\",\"linecolor\":\"white\",\"ticks\":\"\",\"title\":{\"standoff\":15},\"zerolinecolor\":\"white\",\"automargin\":true,\"zerolinewidth\":2},\"scene\":{\"xaxis\":{\"backgroundcolor\":\"#E5ECF6\",\"gridcolor\":\"white\",\"linecolor\":\"white\",\"showbackground\":true,\"ticks\":\"\",\"zerolinecolor\":\"white\",\"gridwidth\":2},\"yaxis\":{\"backgroundcolor\":\"#E5ECF6\",\"gridcolor\":\"white\",\"linecolor\":\"white\",\"showbackground\":true,\"ticks\":\"\",\"zerolinecolor\":\"white\",\"gridwidth\":2},\"zaxis\":{\"backgroundcolor\":\"#E5ECF6\",\"gridcolor\":\"white\",\"linecolor\":\"white\",\"showbackground\":true,\"ticks\":\"\",\"zerolinecolor\":\"white\",\"gridwidth\":2}},\"shapedefaults\":{\"line\":{\"color\":\"#2a3f5f\"}},\"annotationdefaults\":{\"arrowcolor\":\"#2a3f5f\",\"arrowhead\":0,\"arrowwidth\":1},\"geo\":{\"bgcolor\":\"white\",\"landcolor\":\"#E5ECF6\",\"subunitcolor\":\"white\",\"showland\":true,\"showlakes\":true,\"lakecolor\":\"white\"},\"title\":{\"x\":0.05},\"mapbox\":{\"style\":\"light\"}}}},                        {\"responsive\": true}                    )                };            </script>        </div>"
      ],
      "text/plain": [
       "Figure({\n",
       "    'data': [{'mode': 'markers',\n",
       "              'name': 'Objective Value',\n",
       "              'type': 'scatter',\n",
       "              'x': [0, 1, 2, 3, 4, 5, 6, 7, 8, 9, 10, 11, 12, 13, 14, 15, 16, 17,\n",
       "                    18, 19, 20, 21, 22, 23, 24, 25, 26, 27, 28, 29, 30, 31, 32, 33,\n",
       "                    34, 35, 36, 37, 38, 39, 40, 41, 42, 43, 44, 45, 46, 47, 48, 49,\n",
       "                    50, 51, 52, 53, 54, 55, 56, 57, 58, 59, 60, 61, 62, 63, 64, 65,\n",
       "                    66, 67, 68, 69, 70, 71, 72, 73, 74, 75, 76, 77, 78, 79, 80, 81,\n",
       "                    82, 83, 84, 85, 86, 87, 88, 89, 90, 91, 92, 93, 94, 95, 96, 97,\n",
       "                    98, 99],\n",
       "              'y': [-4.454615569597869, -5.183287313244845, -5.5533065776409245,\n",
       "                    -3.022689207517696, -3.8556626829901917, -3.8222832281913655,\n",
       "                    -4.038023938697085, -3.233022901352885, -5.113585736675255,\n",
       "                    -3.9206051737370444, -5.250190783550374, -4.061369958633055,\n",
       "                    -4.981079822863892, -5.358522485421285, -3.840482622148228,\n",
       "                    -3.7718121336312374, -4.988581399585916, -3.60081611795401,\n",
       "                    -4.881638888039892, -2.6988870705349166, -2.5288928528728802,\n",
       "                    -4.609408263161567, -4.87153505488733, -4.001161241867571,\n",
       "                    -2.4182201836464934, -4.083274459694596, -5.0350469006665435,\n",
       "                    -3.0141917029934655, -5.168532500030047, -4.175256744663487,\n",
       "                    -2.5682284936543383, -5.16739230059992, -3.5143424169162167,\n",
       "                    -3.9190936083576906, -5.6065130900388525, -3.8120069642460406,\n",
       "                    -4.0323775234862085, -3.7116328087685644, -3.784106553471793,\n",
       "                    -4.948050550537172, -4.171340573057771, -3.064837629638423,\n",
       "                    -3.1867577156017246, -3.2763809443279603, -3.5343849810992074,\n",
       "                    -5.260046358041409, -4.194347432124191, -5.241996703682718,\n",
       "                    -3.858189723696525, -4.961994505198456, -5.263464209156937,\n",
       "                    -4.746060957097617, -4.900361919705578, -3.662479437496144,\n",
       "                    -5.160157150748525, -3.878002305678291, -3.965504311099962,\n",
       "                    -4.065319985827829, -4.954913677572124, -3.2737855550594395,\n",
       "                    -3.8627433443844454, -5.459093921967408, -3.872193373790073,\n",
       "                    -4.209295801007827, -2.9814412065689178, -4.051387541153481,\n",
       "                    -4.856248370577376, -5.078457100116815, -4.081876168732743,\n",
       "                    -5.037635587125527, -2.6933804781096535, -4.148015392421996,\n",
       "                    -1.8497563987706989, -4.088678477716318, -3.0771787141289613,\n",
       "                    -4.708657089125553, -3.8059154352603395, -2.7514652722200914,\n",
       "                    -4.933024225636072, -3.7020325737943636, -3.724221605326938,\n",
       "                    -4.492941223253703, -5.0452665416213005, -1.89174151961541,\n",
       "                    -2.8352230600003177, -3.880193814528698, -3.096217184393317,\n",
       "                    -5.17064981530593, -4.631255899999288, -4.365254485372871,\n",
       "                    -4.235171646741617, -5.301604964549533, -1.9322596696693828,\n",
       "                    -3.8985704852499268, -3.7818546694180553, -5.223159124852949,\n",
       "                    -3.0039814883305613, -3.926676633039655, -5.341535996703321,\n",
       "                    -4.970272472560683]},\n",
       "             {'mode': 'lines',\n",
       "              'name': 'Best Value',\n",
       "              'type': 'scatter',\n",
       "              'x': [0, 1, 2, 3, 4, 5, 6, 7, 8, 9, 10, 11, 12, 13, 14, 15, 16, 17,\n",
       "                    18, 19, 20, 21, 22, 23, 24, 25, 26, 27, 28, 29, 30, 31, 32, 33,\n",
       "                    34, 35, 36, 37, 38, 39, 40, 41, 42, 43, 44, 45, 46, 47, 48, 49,\n",
       "                    50, 51, 52, 53, 54, 55, 56, 57, 58, 59, 60, 61, 62, 63, 64, 65,\n",
       "                    66, 67, 68, 69, 70, 71, 72, 73, 74, 75, 76, 77, 78, 79, 80, 81,\n",
       "                    82, 83, 84, 85, 86, 87, 88, 89, 90, 91, 92, 93, 94, 95, 96, 97,\n",
       "                    98, 99],\n",
       "              'y': [-4.454615569597869, -4.454615569597869, -4.454615569597869,\n",
       "                    -3.022689207517696, -3.022689207517696, -3.022689207517696,\n",
       "                    -3.022689207517696, -3.022689207517696, -3.022689207517696,\n",
       "                    -3.022689207517696, -3.022689207517696, -3.022689207517696,\n",
       "                    -3.022689207517696, -3.022689207517696, -3.022689207517696,\n",
       "                    -3.022689207517696, -3.022689207517696, -3.022689207517696,\n",
       "                    -3.022689207517696, -2.6988870705349166, -2.5288928528728802,\n",
       "                    -2.5288928528728802, -2.5288928528728802, -2.5288928528728802,\n",
       "                    -2.4182201836464934, -2.4182201836464934, -2.4182201836464934,\n",
       "                    -2.4182201836464934, -2.4182201836464934, -2.4182201836464934,\n",
       "                    -2.4182201836464934, -2.4182201836464934, -2.4182201836464934,\n",
       "                    -2.4182201836464934, -2.4182201836464934, -2.4182201836464934,\n",
       "                    -2.4182201836464934, -2.4182201836464934, -2.4182201836464934,\n",
       "                    -2.4182201836464934, -2.4182201836464934, -2.4182201836464934,\n",
       "                    -2.4182201836464934, -2.4182201836464934, -2.4182201836464934,\n",
       "                    -2.4182201836464934, -2.4182201836464934, -2.4182201836464934,\n",
       "                    -2.4182201836464934, -2.4182201836464934, -2.4182201836464934,\n",
       "                    -2.4182201836464934, -2.4182201836464934, -2.4182201836464934,\n",
       "                    -2.4182201836464934, -2.4182201836464934, -2.4182201836464934,\n",
       "                    -2.4182201836464934, -2.4182201836464934, -2.4182201836464934,\n",
       "                    -2.4182201836464934, -2.4182201836464934, -2.4182201836464934,\n",
       "                    -2.4182201836464934, -2.4182201836464934, -2.4182201836464934,\n",
       "                    -2.4182201836464934, -2.4182201836464934, -2.4182201836464934,\n",
       "                    -2.4182201836464934, -2.4182201836464934, -2.4182201836464934,\n",
       "                    -1.8497563987706989, -1.8497563987706989, -1.8497563987706989,\n",
       "                    -1.8497563987706989, -1.8497563987706989, -1.8497563987706989,\n",
       "                    -1.8497563987706989, -1.8497563987706989, -1.8497563987706989,\n",
       "                    -1.8497563987706989, -1.8497563987706989, -1.8497563987706989,\n",
       "                    -1.8497563987706989, -1.8497563987706989, -1.8497563987706989,\n",
       "                    -1.8497563987706989, -1.8497563987706989, -1.8497563987706989,\n",
       "                    -1.8497563987706989, -1.8497563987706989, -1.8497563987706989,\n",
       "                    -1.8497563987706989, -1.8497563987706989, -1.8497563987706989,\n",
       "                    -1.8497563987706989, -1.8497563987706989, -1.8497563987706989,\n",
       "                    -1.8497563987706989]},\n",
       "             {'marker': {'color': '#cccccc'},\n",
       "              'mode': 'markers',\n",
       "              'name': 'Infeasible Trial',\n",
       "              'showlegend': False,\n",
       "              'type': 'scatter',\n",
       "              'x': [],\n",
       "              'y': []}],\n",
       "    'layout': {'template': '...',\n",
       "               'title': {'text': 'Optimization History Plot'},\n",
       "               'xaxis': {'title': {'text': 'Trial'}},\n",
       "               'yaxis': {'title': {'text': 'Objective Value'}}}\n",
       "})"
      ]
     },
     "execution_count": 23,
     "metadata": {},
     "output_type": "execute_result"
    }
   ],
   "source": [
    "vis.plot_optimization_history(study)"
   ]
  },
  {
   "cell_type": "markdown",
   "id": "75d2087c",
   "metadata": {},
   "source": [
    "#Optuna for Denoise"
   ]
  },
  {
   "cell_type": "code",
   "execution_count": 25,
   "id": "94756060",
   "metadata": {},
   "outputs": [],
   "source": [
    "import cv2\n",
    "import optuna\n",
    "import numpy as np"
   ]
  },
  {
   "cell_type": "code",
   "execution_count": 26,
   "id": "fb85dc63",
   "metadata": {},
   "outputs": [],
   "source": [
    "original_image = cv2.imread('100.jpg')\n",
    "reference_image = cv2.imread('10.jpg')"
   ]
  },
  {
   "cell_type": "code",
   "execution_count": 27,
   "id": "fd311a2d",
   "metadata": {},
   "outputs": [],
   "source": [
    "def process_image(image, brightness, contrast, h):\n",
    "    # Adjust brightness and contrast\n",
    "    img_float = image.astype(np.float32)\n",
    "    img_adjusted = cv2.addWeighted(img_float, contrast, np.zeros_like(img_float), 0, brightness)\n",
    "    img_adjusted = np.clip(img_adjusted, 0, 255).astype(np.uint8)\n",
    "    \n",
    "    # Apply denoising\n",
    "    img_denoised = cv2.fastNlMeansDenoisingColored(img_adjusted, None, h, h, 7, 21)\n",
    "    \n",
    "    return img_denoised"
   ]
  },
  {
   "cell_type": "code",
   "execution_count": 28,
   "id": "81485096",
   "metadata": {},
   "outputs": [],
   "source": [
    "def evaluate_image_quality(image, reference):\n",
    "    psnr_value = cv2.PSNR(image, reference)\n",
    "    return psnr_value"
   ]
  },
  {
   "cell_type": "code",
   "execution_count": 29,
   "id": "0eb7601d",
   "metadata": {},
   "outputs": [],
   "source": [
    "def objective(trial):\n",
    "    brightness = trial.suggest_float('brightness', -50, 50)\n",
    "    contrast = trial.suggest_float('contrast', 0.8, 1.2)\n",
    "    h = trial.suggest_float('h', 0, 10)  # Denoising strength\n",
    "    \n",
    "    img_processed = process_image(original_image, brightness, contrast, h)\n",
    "    quality_score = evaluate_image_quality(img_processed, reference_image)\n",
    "    \n",
    "    return quality_score"
   ]
  },
  {
   "cell_type": "code",
   "execution_count": 31,
   "id": "8cd1447e",
   "metadata": {},
   "outputs": [
    {
     "name": "stderr",
     "output_type": "stream",
     "text": [
      "[I 2025-05-22 12:40:16,493] A new study created in memory with name: no-name-e7ade7bf-2ff7-468d-be74-14bb50e79c7a\n",
      "[I 2025-05-22 12:40:30,537] Trial 0 finished with value: 8.196806173414872 and parameters: {'brightness': -8.921731016834634, 'contrast': 0.8260591325033719, 'h': 2.3963532312884075}. Best is trial 0 with value: 8.196806173414872.\n",
      "[I 2025-05-22 12:40:43,853] Trial 1 finished with value: 8.550714635372929 and parameters: {'brightness': 0.5143116405848289, 'contrast': 0.8438685992940059, 'h': 9.668007243704155}. Best is trial 1 with value: 8.550714635372929.\n",
      "[I 2025-05-22 12:40:56,337] Trial 2 finished with value: 8.927417478711256 and parameters: {'brightness': 47.01268362978831, 'contrast': 0.8624051624914492, 'h': 6.205935115193089}. Best is trial 2 with value: 8.927417478711256.\n",
      "[I 2025-05-22 12:41:08,753] Trial 3 finished with value: 8.489972051228538 and parameters: {'brightness': 10.401083205034702, 'contrast': 1.0836710227039237, 'h': 4.0362865799560685}. Best is trial 2 with value: 8.927417478711256.\n",
      "[I 2025-05-22 12:41:21,216] Trial 4 finished with value: 8.294855064527983 and parameters: {'brightness': 3.5775406883946204, 'contrast': 1.1843114583346541, 'h': 7.431773347195571}. Best is trial 2 with value: 8.927417478711256.\n",
      "[I 2025-05-22 12:41:35,284] Trial 5 finished with value: 8.406336134011724 and parameters: {'brightness': 15.047720876857156, 'contrast': 1.143384182651514, 'h': 8.637930653076353}. Best is trial 2 with value: 8.927417478711256.\n",
      "[I 2025-05-22 12:41:48,055] Trial 6 finished with value: 8.058537289143327 and parameters: {'brightness': -16.28720487190011, 'contrast': 1.1635209909686581, 'h': 6.470570684411932}. Best is trial 2 with value: 8.927417478711256.\n",
      "[I 2025-05-22 12:42:01,636] Trial 7 finished with value: 8.582295752473737 and parameters: {'brightness': 1.8251015950899614, 'contrast': 0.867859890975169, 'h': 3.0494634192189993}. Best is trial 2 with value: 8.927417478711256.\n",
      "[I 2025-05-22 12:42:14,855] Trial 8 finished with value: 9.033628927766582 and parameters: {'brightness': 27.129904402050045, 'contrast': 0.8614893500430562, 'h': 9.150237846817841}. Best is trial 8 with value: 9.033628927766582.\n",
      "[I 2025-05-22 12:42:28,492] Trial 9 finished with value: 8.134830011165006 and parameters: {'brightness': 47.998518509965535, 'contrast': 1.0917368289389362, 'h': 3.258447157923036}. Best is trial 8 with value: 9.033628927766582.\n",
      "[I 2025-05-22 12:42:41,484] Trial 10 finished with value: 7.181708397416594 and parameters: {'brightness': -45.59909631721935, 'contrast': 0.9508815057933339, 'h': 9.703514504044833}. Best is trial 8 with value: 9.033628927766582.\n",
      "[I 2025-05-22 12:42:55,496] Trial 11 finished with value: 8.655082845900811 and parameters: {'brightness': 49.4864578915338, 'contrast': 0.9319861900378598, 'h': 6.198786460944277}. Best is trial 8 with value: 9.033628927766582.\n",
      "[I 2025-05-22 12:43:07,986] Trial 12 finished with value: 8.892831655027235 and parameters: {'brightness': 26.85230803141719, 'contrast': 0.9071562990162452, 'h': 0.9150853109057291}. Best is trial 8 with value: 9.033628927766582.\n",
      "[I 2025-05-22 12:43:19,851] Trial 13 finished with value: 8.691148131596718 and parameters: {'brightness': 31.916066317841995, 'contrast': 0.9918519469497411, 'h': 5.802454204572381}. Best is trial 8 with value: 9.033628927766582.\n",
      "[I 2025-05-22 12:43:31,719] Trial 14 finished with value: 9.161435717223139 and parameters: {'brightness': 30.532111852119677, 'contrast': 0.8072406389950859, 'h': 7.9108425527916495}. Best is trial 14 with value: 9.161435717223139.\n",
      "[I 2025-05-22 12:43:43,686] Trial 15 finished with value: 9.130136982323023 and parameters: {'brightness': 26.353687843308563, 'contrast': 0.804140512640765, 'h': 7.9696912349256435}. Best is trial 14 with value: 9.161435717223139.\n",
      "[I 2025-05-22 12:43:55,287] Trial 16 finished with value: 9.160759231184151 and parameters: {'brightness': 34.30398398297429, 'contrast': 0.8140258786524847, 'h': 7.769160351030724}. Best is trial 14 with value: 9.161435717223139.\n",
      "[I 2025-05-22 12:44:08,353] Trial 17 finished with value: 8.551421664973134 and parameters: {'brightness': 39.22692783086734, 'contrast': 1.0169171413090312, 'h': 7.53199042933401}. Best is trial 14 with value: 9.161435717223139.\n",
      "[I 2025-05-22 12:44:20,971] Trial 18 finished with value: 7.734894474341834 and parameters: {'brightness': -24.81895146518248, 'contrast': 0.8985719512018325, 'h': 4.790609739750371}. Best is trial 14 with value: 9.161435717223139.\n",
      "[I 2025-05-22 12:44:33,222] Trial 19 finished with value: 8.891277208669964 and parameters: {'brightness': 13.092863213474374, 'contrast': 0.8005782888121824, 'h': 8.128798996625424}. Best is trial 14 with value: 9.161435717223139.\n"
     ]
    }
   ],
   "source": [
    "study = optuna.create_study(direction='maximize')\n",
    "study.optimize(objective, n_trials=20)"
   ]
  },
  {
   "cell_type": "code",
   "execution_count": 32,
   "id": "8b3b1e1f",
   "metadata": {},
   "outputs": [
    {
     "name": "stdout",
     "output_type": "stream",
     "text": [
      "Best parameters:\n",
      "{'brightness': 30.532111852119677, 'contrast': 0.8072406389950859, 'h': 7.9108425527916495}\n",
      "Best score:\n",
      "9.161435717223139\n"
     ]
    }
   ],
   "source": [
    "# Print the best parameters found\n",
    "print(\"Best parameters:\")\n",
    "print(study.best_params)\n",
    "\n",
    "# Print the best score achieved\n",
    "print(\"Best score:\")\n",
    "print(study.best_value)"
   ]
  },
  {
   "cell_type": "code",
   "execution_count": 33,
   "id": "d8493f3f",
   "metadata": {},
   "outputs": [],
   "source": [
    "best_brightness = study.best_params['brightness']\n",
    "best_contrast = study.best_params['contrast']\n",
    "best_h = study.best_params['h']\n",
    "best_img_processed = process_image(original_image, best_brightness, best_contrast, best_h)"
   ]
  },
  {
   "cell_type": "code",
   "execution_count": 34,
   "id": "65893eb8",
   "metadata": {},
   "outputs": [],
   "source": [
    "cv2.imshow('Processed Image', best_img_processed)\n",
    "cv2.waitKey(0)\n",
    "cv2.destroyAllWindows()"
   ]
  },
  {
   "cell_type": "code",
   "execution_count": 35,
   "id": "e015c99d",
   "metadata": {},
   "outputs": [
    {
     "data": {
      "text/plain": [
       "True"
      ]
     },
     "execution_count": 35,
     "metadata": {},
     "output_type": "execute_result"
    }
   ],
   "source": [
    "cv2.imwrite('processed_image.jpg', best_img_processed)"
   ]
  }
 ],
 "metadata": {
  "kernelspec": {
   "display_name": "Python 3",
   "language": "python",
   "name": "python3"
  },
  "language_info": {
   "codemirror_mode": {
    "name": "ipython",
    "version": 3
   },
   "file_extension": ".py",
   "mimetype": "text/x-python",
   "name": "python",
   "nbconvert_exporter": "python",
   "pygments_lexer": "ipython3",
   "version": "3.11.9"
  }
 },
 "nbformat": 4,
 "nbformat_minor": 5
}
